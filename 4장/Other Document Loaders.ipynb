{
 "cells": [
  {
   "cell_type": "markdown",
   "id": "b23d901e-a61f-49ba-bb62-e533ef62fc8e",
   "metadata": {},
   "source": [
    "## **Office file Loaders**"
   ]
  },
  {
   "cell_type": "markdown",
   "id": "c91ebeff-9eea-472c-b530-4b31e7b904c5",
   "metadata": {},
   "source": [
    "### **Word 파일 불러오기**"
   ]
  },
  {
   "cell_type": "code",
   "execution_count": null,
   "id": "cf4a4e98-1f4d-4faf-8a4f-a57cfc7e4b30",
   "metadata": {},
   "outputs": [],
   "source": [
    "#docx2txt 설치\n",
    "!pip install --upgrade --quiet  docx2txt"
   ]
  },
  {
   "cell_type": "code",
   "execution_count": 11,
   "id": "7218b698-144b-4a1d-ac3e-a63ee3e9c942",
   "metadata": {},
   "outputs": [
    {
     "name": "stdout",
     "output_type": "stream",
     "text": [
      "2011.09.01\t'갤럭시 노트' 공개\n",
      "\n",
      "\t2012.04.01\tLCD사업부 분사(삼성디스플레이㈜ 설립)\n",
      "\n",
      "\t2013.06.26\t'갤럭시 S4 LTE-A' LTE-A 스마트폰 출시\n",
      "\n",
      "\t2013.08.06\t'3D V-NAND' 3차원 수직구조 낸드플래시 메모리 양산\n",
      "\n",
      "\t2013.09.24\t'아이소셀(ISOCELL)' 차세대 CMOS 이미지센서 개발\n",
      "\n",
      "\t2017.03.05\t'QLED TV' 진화된 퀀텀닷 기술 적용 TV 출시\n",
      "\n",
      "\t2017.03.10\t전장 기업 Harman International Industries, Inc.사(100%) 지분 인수 2017.07.04\t세계 최대 규모 평택 반도체 라인 가동\n",
      "\n",
      "\t2017.11.01\t프린팅솔루션 사업 매각\n",
      "\n",
      "\t2018.08.30\t'QLED 8K TV' 퀀텀닷 기술과 8K 해상도 적용 TV 출시\n",
      "\n",
      "\t2018.11.07\t'폴더블 디스플레이' 삼성 개발자 컨퍼런스에서 공개\n",
      "\n",
      "\t2019.04.03\t'갤럭시 S10 5G' 5G 스마트폰 출시\n",
      "\n",
      "\t20\n"
     ]
    }
   ],
   "source": [
    "#Docx2txtLoader 불러오기\n",
    "from langchain_community.document_loaders import Docx2txtLoader\n",
    "\n",
    "#Docx2txtLoader로 워드 파일 불러오기(경로 설정)\n",
    "loader = Docx2txtLoader(r\"C:\\Users\\gram\\Desktop\\Langchain\\DocumentLoader\\[삼성전자] 사업보고서(일반법인) (2021.03.09).docx\")\n",
    "\n",
    "#페이지로 분할하여 불러오기\n",
    "data = loader.load_and_split() \n",
    "\n",
    "#첫번째 페이지 출력하기\n",
    "print(data[12].page_content[:500])"
   ]
  },
  {
   "cell_type": "code",
   "execution_count": 12,
   "id": "860d98d7-e98b-439a-9a66-4dfe41f1e856",
   "metadata": {},
   "outputs": [
    {
     "name": "stdout",
     "output_type": "stream",
     "text": [
      "{'source': 'C:\\\\Users\\\\gram\\\\Desktop\\\\Langchain\\\\DocumentLoader\\\\[삼성전자] 사업보고서(일반법인) (2021.03.09).docx'}\n"
     ]
    }
   ],
   "source": [
    "#로드한 워드파일의 메타데이터 확인\n",
    "print(data[12].metadata)"
   ]
  },
  {
   "cell_type": "markdown",
   "id": "99959741-9e6b-488f-aded-bf13487a7689",
   "metadata": {},
   "source": [
    "### **CSV 파일 불러오기**"
   ]
  },
  {
   "cell_type": "code",
   "execution_count": 13,
   "id": "b2d3f394-a47b-49a5-a9b3-34a64c2e590f",
   "metadata": {},
   "outputs": [
    {
     "data": {
      "text/plain": [
       "Document(page_content='Team: Nationals\\n\"Payroll (millions)\": 81.34\\n\"Wins\": 98', metadata={'source': 'C:\\\\Users\\\\gram\\\\Desktop\\\\Langchain\\\\DocumentLoader\\\\mlb_teams_2012.csv', 'row': 0})"
      ]
     },
     "execution_count": 13,
     "metadata": {},
     "output_type": "execute_result"
    }
   ],
   "source": [
    "from langchain_community.document_loaders.csv_loader import CSVLoader\n",
    "\n",
    "loader = CSVLoader(file_path=r\"C:\\Users\\gram\\Desktop\\Langchain\\DocumentLoader\\mlb_teams_2012.csv\")\n",
    "\n",
    "data = loader.load()\n",
    "\n",
    "data[0]"
   ]
  },
  {
   "cell_type": "markdown",
   "id": "84f48f01-407d-4404-9800-a2c8de80e073",
   "metadata": {},
   "source": [
    "### **PPT 파일 불러오기**"
   ]
  },
  {
   "cell_type": "code",
   "execution_count": null,
   "id": "b2a46051-a56e-4dbd-a13b-bc1a499a686a",
   "metadata": {},
   "outputs": [],
   "source": [
    "#pthon-pptx 패키지 설치\n",
    "!pip install python-pptx"
   ]
  },
  {
   "cell_type": "code",
   "execution_count": 14,
   "id": "e1c9959f-4234-428a-b6d7-ff48dbc5f8b3",
   "metadata": {},
   "outputs": [
    {
     "data": {
      "text/plain": [
       "Document(page_content='Copilot scenarios for\\x0bMarketing', metadata={'source': 'C:\\\\Users\\\\gram\\\\Desktop\\\\Langchain\\\\DocumentLoader\\\\Copilot-scenarios-for-Marketing.pptx', 'category_depth': 0, 'file_directory': 'C:\\\\Users\\\\gram\\\\Desktop\\\\Langchain\\\\DocumentLoader', 'filename': 'Copilot-scenarios-for-Marketing.pptx', 'last_modified': '2024-03-18T21:38:20', 'page_number': 2, 'languages': ['eng'], 'filetype': 'application/vnd.openxmlformats-officedocument.presentationml.presentation', 'category': 'Title'})"
      ]
     },
     "execution_count": 14,
     "metadata": {},
     "output_type": "execute_result"
    }
   ],
   "source": [
    "#UnstructuredPowerPointLoader 불러오기\n",
    "from langchain_community.document_loaders import UnstructuredPowerPointLoader\n",
    "\n",
    "#mode=elements를 통해 pptx의 요소별로 Document 객체로 가져오기\n",
    "loader = UnstructuredPowerPointLoader(r\"C:\\Users\\gram\\Desktop\\Langchain\\DocumentLoader\\Copilot-scenarios-for-Marketing.pptx\", mode=\"elements\")\n",
    "\n",
    "#pptx 파일을 분할 로드하기\n",
    "data = loader.load_and_split()\n",
    "\n",
    "data[1]"
   ]
  },
  {
   "cell_type": "code",
   "execution_count": 15,
   "id": "a65a0341-a3d6-4aa5-830d-998909b1bb4c",
   "metadata": {},
   "outputs": [
    {
     "name": "stdout",
     "output_type": "stream",
     "text": [
      "Title\n",
      "Copilot scenarios for\u000b",
      "Marketing\n",
      "\n",
      "\n",
      "Title\n",
      "Overview and KPIs\n",
      "\n",
      "\n",
      "Title\n",
      "Use Case by Role\n",
      "\n",
      "\n",
      "Title\n",
      "Day in the Life\n",
      "\n",
      "\n",
      "NarrativeText\n",
      "KPIs play a crucial role in organizations, providing a compass to navigate toward success. Let's dive into KPIs for Marketing and how Copilot can assist.\n",
      "\n",
      "\n",
      "NarrativeText\n",
      "Copilot can simplify the tasks that execs perform every day. Look at key use cases and how Copilot can be your AI assistant along the way.\n",
      "\n",
      "\n",
      "NarrativeText\n",
      "See how real-life marketers are using Copilot in their day to day.\n",
      "\n",
      "\n"
     ]
    }
   ],
   "source": [
    "for i in data:\n",
    "    if i.metadata['page_number'] == 2:\n",
    "        print(i.metadata['category'])\n",
    "        print(i.page_content)\n",
    "        print(\"\\n\")"
   ]
  },
  {
   "cell_type": "markdown",
   "id": "c02a7891-5b5b-49ec-a04b-2ad829f5a03e",
   "metadata": {},
   "source": [
    "## **인터넷 정보 로드하기, WebBaseLoader**"
   ]
  },
  {
   "cell_type": "code",
   "execution_count": 16,
   "id": "96c46aba-f2b8-4aea-bbd8-8aaeabc91ef4",
   "metadata": {},
   "outputs": [
    {
     "name": "stderr",
     "output_type": "stream",
     "text": [
      "C:\\Users\\gram\\anaconda3\\Lib\\site-packages\\urllib3\\connectionpool.py:1103: InsecureRequestWarning: Unverified HTTPS request is being made to host 'www.espn.com'. Adding certificate verification is strongly advised. See: https://urllib3.readthedocs.io/en/latest/advanced-usage.html#tls-warnings\n",
      "  warnings.warn(\n"
     ]
    },
    {
     "data": {
      "text/plain": [
       "[Document(page_content='\\n\\n\\n\\n\\n\\n\\n\\n\\nESPN - Serving Sports Fans. Anytime. Anywhere.\\n\\n\\n\\n\\n\\n\\n\\n\\n\\n\\n\\n\\n\\n\\n\\n\\n\\n\\n\\n\\n\\n\\n\\n\\n\\n\\n\\n\\n\\n\\n\\n\\n\\n\\n\\n\\n\\n\\n\\n\\n\\n\\n\\n\\n\\n\\n\\n\\n\\n\\n\\n\\n\\n\\n\\n\\n\\n\\n\\n\\n\\n\\n\\n\\n\\n\\n\\n\\n\\n\\n\\n\\n\\n\\n\\n\\n\\n\\n\\n\\n\\n\\n\\n\\n\\n\\n\\n\\n\\n\\n\\n\\n        Skip to main content\\n    \\n\\n        Skip to navigation\\n    \\n\\n\\n\\n\\n\\n\\n\\n\\n\\n\\n\\n\\n\\n\\n\\n\\n\\n\\n\\n\\n\\n\\n\\n\\n\\n\\n\\n\\n\\n\\n\\n\\n\\n<\\n\\n>\\n\\n\\n\\n\\n\\n\\n\\n\\n\\nMenuESPN\\n\\n\\n\\n\\n\\nscores\\n\\n\\n\\nNFLNBAMLBNHLSoccerGolf…NCAAFSports BettingBoxingCFLNCAACricketF1HorseLLWSMMANASCARNBA G LeagueNCAAMNCAAWOlympic SportsPLLProfessional WrestlingRacingRN BBRN FBRugbyTennisWNBAX GamesUFLMore ESPNFantasyWatchESPN BETESPN+\\n\\n\\n\\n\\n\\n\\n\\n\\n\\n\\n\\n\\n\\n\\n\\n  \\n\\nSubscribe Now\\n\\n\\n\\n\\n\\nPGA TOUR LIVE\\n\\n\\n\\n\\n\\n\\n\\nNCAA Softball: Super Regionals\\n\\n\\n\\n\\n\\n\\n\\nMLB\\n\\n\\n\\n\\n\\n\\n\\nNCAA Baseball\\n\\n\\n\\n\\n\\n\\n\\nUp For Debate\\n\\n\\n\\n\\n\\n\\n\\nUFC 302: Makhachev vs. Poirier (June 1, ESPN+ PPV)\\n\\n\\n\\n\\n\\n\\n\\nTwo-Round NBA Mock Draft\\n\\n\\nQuick Links\\n\\n\\n\\n\\nNFL Schedule\\n\\n\\n\\n\\n\\n\\n\\nNBA Postseason Tracker\\n\\n\\n\\n\\n\\n\\n\\nStanley Cup Playoffs\\n\\n\\n\\n\\n\\n\\n\\nNCAA Softball Tournament\\n\\n\\n\\n\\n\\n\\n\\nCollege Baseball Scoreboard\\n\\n\\n\\n\\n\\n\\n\\nWNBA Rookie Tracker\\n\\n\\n\\n\\n\\n\\n\\nESPN Radio: Listen Live\\n\\n\\n\\n\\n\\n\\n\\nWatch Golf on ESPN\\n\\n\\n\\n\\n\\n\\nFavorites\\n\\n\\n\\n\\n\\n\\n      Manage Favorites\\n      \\n\\n\\n\\nCustomize ESPNCreate AccountLog InFantasy\\n\\n\\n\\n\\nFootball\\n\\n\\n\\n\\n\\n\\n\\nBaseball\\n\\n\\n\\n\\n\\n\\n\\nBasketball\\n\\n\\n\\n\\n\\n\\n\\nHockey\\n\\n\\nESPN Sites\\n\\n\\n\\n\\nESPN Deportes\\n\\n\\n\\n\\n\\n\\n\\nAndscape\\n\\n\\n\\n\\n\\n\\n\\nespnW\\n\\n\\n\\n\\n\\n\\n\\nESPNFC\\n\\n\\n\\n\\n\\n\\n\\nX Games\\n\\n\\n\\n\\n\\n\\n\\nSEC Network\\n\\n\\nESPN Apps\\n\\n\\n\\n\\nESPN\\n\\n\\n\\n\\n\\n\\n\\nESPN Fantasy\\n\\n\\n\\n\\n\\n\\n\\nTournament Challenge\\n\\n\\nFollow ESPN\\n\\n\\n\\n\\nFacebook\\n\\n\\n\\n\\n\\n\\n\\nX/Twitter\\n\\n\\n\\n\\n\\n\\n\\nInstagram\\n\\n\\n\\n\\n\\n\\n\\nSnapchat\\n\\n\\n\\n\\n\\n\\n\\nTikTok\\n\\n\\n\\n\\n\\n\\n\\nYouTube\\n\\n\\nEast Finals - Game 2BOS leads series 2-0Biggest takeaways of Game 2 between Boston and IndianaOur NBA insiders break down their biggest takeaways from Game 2 of the Eastern Conference finals.7hNBA Insiders(Photo by Brian Babineau/NBAE via Getty Images)NBA playoff scheduleLowe: Derrick White, Josh Hart and the immense power of \"small\" tradesTOP HEADLINESBehind Brown\\'s 40, Celts flip G2 luck for 2-0 leadSources: Raiders redo contract to reward CrosbyNCAA, Power 5 agree to let schools pay playersHaliburton status up in air after injuring hamstringMcDavid bailed out after penalty, nets 2OT winnerUtd\\'s Onana on Ten Hag: \\'I\\'m not here to back him\\'Cop disciplined for not recording Scheffler arrestBronny garners bets to be top pick in NBA draftOffseason superlatives for NFC teamsWest Final - Game 1EDM leads series 1-0NCAA\\'S HISTORIC SETTLEMENTThamel: It\\'s a new day for college sports, but the future remains unclearA landmark settlement will provide billions in pay to college athletes. But because this is college sports, nothing will be easy.12hPete ThamelDaniel Shirey/USA TODAY SportsSVP calls the NCAA/Power 5 deal \\'long overdue\\'8h1:22STANLEY CUP PLAYOFFSCONFERENCE FINALSKaplan\\'s playoff buzz: What\\'s up with Wyatt Johnston, Matt Rempe and Sergei BobrovskyWith the conference finals underway, here\\'s what we\\'re hearing on the teams left, the Stanley Cup playoffs in general and what the offseason could bring.1dEmily KaplanCooper Neill/Getty ImagesConn Smythe Watch: Counting down top candidates for playoff MVPWe asked potential voters and media members for their top three players for postseason MVP. Here\\'s the top 10.1dGreg WyshynskiConn Smythe Trophy betting oddsPGA TOUR: CHARLES SCHWAB CHALLENGESTREAMING ON ESPN+SCHEFFLER UPDATEThe fallout continues from Scottie Scheffler\\'s Louisville arrest13h2:09New footage released in Scottie Scheffler\\'s arrest15h0:59UNHITTABLE ADDITIONSHit THIS! 12 nasty new pitches that are rocking MLB this seasonFrom devastating splitters to untouchable sweepers, here\\'s what pitchers have added to their 2024 arsenals.38mJeff PassanBenny Sieu-USA TODAY SportsHow Shota Imanaga went from under the radar to early Cy Young favoritePowered by an unhittable \\'optical illusion\\' pitch, the Cubs\\' new ace is taking MLB by storm.38mJesse RogersMLB SCOREBOARDTHURSDAY\\'S GAMESSee AllMLB standings2024 stat leadersTHE TEAMS MAKING NOISEReal or not? These unexpected teams are serious playoff contendersWe offer an early verdict on five of MLB\\'s most surprising teams almost two months into the 2024 season.1dDavid SchoenfieldJason Miller/Getty ImagesMLB Power Rankings: Who\\'s the new No. 1 team?As the battle in the NL continues between three powerhouses, one club makes its debut at the top spot.1dESPN Top HeadlinesBehind Brown\\'s 40, Celts flip G2 luck for 2-0 leadSources: Raiders redo contract to reward CrosbyNCAA, Power 5 agree to let schools pay playersHaliburton status up in air after injuring hamstringMcDavid bailed out after penalty, nets 2OT winnerUtd\\'s Onana on Ten Hag: \\'I\\'m not here to back him\\'Cop disciplined for not recording Scheffler arrestBronny garners bets to be top pick in NBA draftOffseason superlatives for NFC teamsFavorites FantasyManage FavoritesFantasy HomeCustomize ESPNCreate AccountLog InICYMI0:43Caitlin Clark fumbles inbounds pass in closing seconds as Fever lose againCaitlin Clark is smothered on a Fever inbounds play, leading to a jump ball late in the fourth against the Storm. Best of ESPN+ESPNUpdated 2024 top 50 MLB prospects: Skenes, Holliday, moreStarting with a player making headlines in the majors, let\\'s rank baseball\\'s next wave of future stars.Jesse Johnson/USA Today SportsRanking the top 12 NBA players through two rounds of playoffsYoung stars of the Wolves and Thunder both land in the top three of the playoffs\\' most valuable players (ranked by the numbers). Who else joins them?Cooper Neill/Getty ImagesBest NFL team fits for remaining free agents, trade candidatesWhere should Michael Thomas, Ryan Tannehill and Justin Simmons sign? Who should trade for Tee Higgins? Let\\'s find team fits for 15 players.Jamie Douglas/Icon Sportswire via Getty ImagesOffseason keys for NHL teams, including draft, free agencyWe explore the next moves each team should make this summer and forecast its 2024-25 outlook. Trending NowKevin Abele/Icon SportswireJaden Rashada-Florida NIL lawsuit: what to know, what comes nextThe former ESPN 300 QB sued Florida over a $13.85 million NIL deal. What\\'s next in this saga? Our reporters break it down.EPA/ADAM DAVIS SHUTTERSTOCK OUTHow an NBA title could impact Ant, Luka, Tatum and HaliburtonLuka Doncic, Anthony Edwards, Jayson Tatum or Tyrese Haliburton will win their first NBA title this year. What would a championship mean for the legacies of these young superstars?Nic Antaya/Getty ImagesHow Josh Hader set unprecedented rules to protect his healthThe inside story of the unprecedented usage rules Hader set before a team would commit to him long-term.Kasi OrrInside K.C. Chiefs\\' Derrick Nnadi\\'s quest to save shelter dogsSince the 2019-20 season, Nnadi has paid adoption fees for more than 500 dogs, and will do more this season. Sign up to play the #1 Fantasy game!Create A LeagueJoin Public LeagueReactivate A LeagueMock Draft NowSign up for FREE!Reactivate A LeagueCreate A LeagueJoin a Public LeaguePractice With a Mock DraftGet a custom ESPN experienceEnjoy the benefits of a personalized accountSelect your favorite leagues, teams and players and get the latest scores, news and updates that matter most to you. \\n\\nESPN+\\n\\n\\n\\n\\nPGA TOUR LIVE\\n\\n\\n\\n\\n\\n\\n\\nMLB\\n\\n\\n\\n\\n\\n\\n\\nUp For Debate\\n\\n\\n\\n\\n\\n\\n\\nUFC 302: Makhachev vs. Poirier (June 1, ESPN+ PPV)\\n\\n\\n\\n\\n\\n\\n\\nTwo-Round NBA Mock Draft\\n\\n\\nQuick Links\\n\\n\\n\\n\\nNFL Schedule\\n\\n\\n\\n\\n\\n\\n\\nNBA Postseason Tracker\\n\\n\\n\\n\\n\\n\\n\\nStanley Cup Playoffs\\n\\n\\n\\n\\n\\n\\n\\nNCAA Softball Tournament\\n\\n\\n\\n\\n\\n\\n\\nCollege Baseball Scoreboard\\n\\n\\n\\n\\n\\n\\n\\nWNBA Rookie Tracker\\n\\n\\n\\n\\n\\n\\n\\nESPN Radio: Listen Live\\n\\n\\n\\n\\n\\n\\n\\nWatch Golf on ESPN\\n\\n\\nFantasy\\n\\n\\n\\n\\nFootball\\n\\n\\n\\n\\n\\n\\n\\nBaseball\\n\\n\\n\\n\\n\\n\\n\\nBasketball\\n\\n\\n\\n\\n\\n\\n\\nHockey\\n\\n\\nESPN Sites\\n\\n\\n\\n\\nESPN Deportes\\n\\n\\n\\n\\n\\n\\n\\nAndscape\\n\\n\\n\\n\\n\\n\\n\\nespnW\\n\\n\\n\\n\\n\\n\\n\\nESPNFC\\n\\n\\n\\n\\n\\n\\n\\nX Games\\n\\n\\n\\n\\n\\n\\n\\nSEC Network\\n\\n\\nESPN Apps\\n\\n\\n\\n\\nESPN\\n\\n\\n\\n\\n\\n\\n\\nESPN Fantasy\\n\\n\\n\\n\\n\\n\\n\\nTournament Challenge\\n\\n\\nFollow ESPN\\n\\n\\n\\n\\nFacebook\\n\\n\\n\\n\\n\\n\\n\\nX/Twitter\\n\\n\\n\\n\\n\\n\\n\\nInstagram\\n\\n\\n\\n\\n\\n\\n\\nSnapchat\\n\\n\\n\\n\\n\\n\\n\\nTikTok\\n\\n\\n\\n\\n\\n\\n\\nYouTube\\n\\n\\nTerms of UsePrivacy PolicyInterest-Based AdsÂ© ESPN Enterprises, Inc. All rights reserved.\\n\\n\\n\\n\\n\\n\\n\\n\\n\\n\\n\\n\\n\\n\\n\\n\\n\\n', metadata={'source': 'https://www.espn.com/', 'title': 'ESPN - Serving Sports Fans. Anytime. Anywhere.', 'description': 'Visit ESPN for live scores, highlights and sports news. Stream exclusive games on ESPN+ and play fantasy sports.', 'language': 'en'})]"
      ]
     },
     "execution_count": 16,
     "metadata": {},
     "output_type": "execute_result"
    }
   ],
   "source": [
    "from langchain_community.document_loaders import WebBaseLoader\n",
    "#텍스트 추출할 URL 입력\n",
    "loader = WebBaseLoader(\"https://www.espn.com/\")\n",
    "#ssl verification 에러 방지를 위한 코드\n",
    "loader.requests_kwargs = {'verify':False}\n",
    "data = loader.load()\n",
    "data"
   ]
  },
  {
   "cell_type": "markdown",
   "id": "79315583-6417-401c-9911-a2e29232b71e",
   "metadata": {},
   "source": [
    "**[Headline만 가져오기]**"
   ]
  },
  {
   "cell_type": "code",
   "execution_count": 18,
   "id": "c5d834f1-76b9-47d4-a485-bccc64028687",
   "metadata": {},
   "outputs": [
    {
     "name": "stderr",
     "output_type": "stream",
     "text": [
      "C:\\Users\\gram\\anaconda3\\Lib\\site-packages\\urllib3\\connectionpool.py:1103: InsecureRequestWarning: Unverified HTTPS request is being made to host 'www.espn.com'. Adding certificate verification is strongly advised. See: https://urllib3.readthedocs.io/en/latest/advanced-usage.html#tls-warnings\n",
      "  warnings.warn(\n"
     ]
    },
    {
     "data": {
      "text/plain": [
       "[Document(page_content=\"Behind Brown's 40, Celts flip G2 luck for 2-0 leadSources: Raiders redo contract to reward CrosbyNCAA, Power 5 agree to let schools pay playersHaliburton status up in air after injuring hamstringMcDavid bailed out after penalty, nets 2OT winnerUtd's Onana on Ten Hag: 'I'm not here to back him'Cop disciplined for not recording Scheffler arrestBronny garners bets to be top pick in NBA draftOffseason superlatives for NFC teams Top HeadlinesBehind Brown's 40, Celts flip G2 luck for 2-0 leadSources: Raiders redo contract to reward CrosbyNCAA, Power 5 agree to let schools pay playersHaliburton status up in air after injuring hamstringMcDavid bailed out after penalty, nets 2OT winnerUtd's Onana on Ten Hag: 'I'm not here to back him'Cop disciplined for not recording Scheffler arrestBronny garners bets to be top pick in NBA draftOffseason superlatives for NFC teams\", metadata={'source': 'https://www.espn.com/'})]"
      ]
     },
     "execution_count": 18,
     "metadata": {},
     "output_type": "execute_result"
    }
   ],
   "source": [
    "import bs4\n",
    "from langchain_community.document_loaders import WebBaseLoader\n",
    "#텍스트 추출할 URL 입력\n",
    "loader = WebBaseLoader(\"https://www.espn.com/\",\n",
    "                        bs_kwargs=dict(\n",
    "                            parse_only=bs4.SoupStrainer(\n",
    "                                class_=(\"headlineStack top-headlines\")\n",
    "                                                        )\n",
    "                                        )\n",
    "                      )\n",
    "#ssl verification 에러 방지를 위한 코드\n",
    "loader.requests_kwargs = {'verify':False}\n",
    "data = loader.load()\n",
    "data"
   ]
  },
  {
   "cell_type": "code",
   "execution_count": 19,
   "id": "95f08c14-bde3-4c6f-8fd4-28f87fa4fca1",
   "metadata": {},
   "outputs": [
    {
     "data": {
      "text/plain": [
       "[Document(page_content='\\n\\n\\n\\n\\n\\n\\n\\n\\nESPN - Serving Sports Fans. Anytime. Anywhere.\\n\\n\\n\\n\\n\\n\\n\\n\\n\\n\\n\\n\\n\\n\\n\\n\\n\\n\\n\\n\\n\\n\\n\\n\\n\\n\\n\\n\\n\\n\\n\\n\\n\\n\\n\\n\\n\\n\\n\\n\\n\\n\\n\\n\\n\\n\\n\\n\\n\\n\\n\\n\\n\\n\\n\\n\\n\\n\\n\\n\\n\\n\\n\\n\\n\\n\\n\\n\\n\\n\\n\\n\\n\\n\\n\\n\\n\\n\\n\\n\\n\\n\\n\\n\\n\\n\\n\\n\\n\\n\\n\\n\\n        Skip to main content\\n    \\n\\n        Skip to navigation\\n    \\n\\n\\n\\n\\n\\n\\n\\n\\n\\n\\n\\n\\n\\n\\n\\n\\n\\n\\n\\n\\n\\n\\n\\n\\n\\n\\n\\n\\n\\n\\n\\n\\n\\n<\\n\\n>\\n\\n\\n\\n\\n\\n\\n\\n\\n\\nMenuESPN\\n\\n\\n\\n\\n\\nscores\\n\\n\\n\\nNFLNBAMLBNHLSoccerGolf…NCAAFSports BettingBoxingCFLNCAACricketF1HorseLLWSMMANASCARNBA G LeagueNCAAMNCAAWOlympic SportsPLLProfessional WrestlingRacingRN BBRN FBRugbyTennisWNBAX GamesUFLMore ESPNFantasyWatchESPN BETESPN+\\n\\n\\n\\n\\n\\n\\n\\n\\n\\n\\n\\n\\n\\n\\n\\n  \\n\\nSubscribe Now\\n\\n\\n\\n\\n\\nPGA TOUR LIVE\\n\\n\\n\\n\\n\\n\\n\\nNCAA Softball: Super Regionals\\n\\n\\n\\n\\n\\n\\n\\nMLB\\n\\n\\n\\n\\n\\n\\n\\nNCAA Baseball\\n\\n\\n\\n\\n\\n\\n\\nUp For Debate\\n\\n\\n\\n\\n\\n\\n\\nUFC 302: Makhachev vs. Poirier (June 1, ESPN+ PPV)\\n\\n\\n\\n\\n\\n\\n\\nTwo-Round NBA Mock Draft\\n\\n\\nQuick Links\\n\\n\\n\\n\\nNFL Schedule\\n\\n\\n\\n\\n\\n\\n\\nNBA Postseason Tracker\\n\\n\\n\\n\\n\\n\\n\\nStanley Cup Playoffs\\n\\n\\n\\n\\n\\n\\n\\nNCAA Softball Tournament\\n\\n\\n\\n\\n\\n\\n\\nCollege Baseball Scoreboard\\n\\n\\n\\n\\n\\n\\n\\nWNBA Rookie Tracker\\n\\n\\n\\n\\n\\n\\n\\nESPN Radio: Listen Live\\n\\n\\n\\n\\n\\n\\n\\nWatch Golf on ESPN\\n\\n\\n\\n\\n\\n\\nFavorites\\n\\n\\n\\n\\n\\n\\n      Manage Favorites\\n      \\n\\n\\n\\nCustomize ESPNCreate AccountLog InFantasy\\n\\n\\n\\n\\nFootball\\n\\n\\n\\n\\n\\n\\n\\nBaseball\\n\\n\\n\\n\\n\\n\\n\\nBasketball\\n\\n\\n\\n\\n\\n\\n\\nHockey\\n\\n\\nESPN Sites\\n\\n\\n\\n\\nESPN Deportes\\n\\n\\n\\n\\n\\n\\n\\nAndscape\\n\\n\\n\\n\\n\\n\\n\\nespnW\\n\\n\\n\\n\\n\\n\\n\\nESPNFC\\n\\n\\n\\n\\n\\n\\n\\nX Games\\n\\n\\n\\n\\n\\n\\n\\nSEC Network\\n\\n\\nESPN Apps\\n\\n\\n\\n\\nESPN\\n\\n\\n\\n\\n\\n\\n\\nESPN Fantasy\\n\\n\\n\\n\\n\\n\\n\\nTournament Challenge\\n\\n\\nFollow ESPN\\n\\n\\n\\n\\nFacebook\\n\\n\\n\\n\\n\\n\\n\\nX/Twitter\\n\\n\\n\\n\\n\\n\\n\\nInstagram\\n\\n\\n\\n\\n\\n\\n\\nSnapchat\\n\\n\\n\\n\\n\\n\\n\\nTikTok\\n\\n\\n\\n\\n\\n\\n\\nYouTube\\n\\n\\nEast Finals - Game 2BOS leads series 2-0Biggest takeaways of Game 2 between Boston and IndianaOur NBA insiders break down their biggest takeaways from Game 2 of the Eastern Conference finals.7hNBA Insiders(Photo by Brian Babineau/NBAE via Getty Images)NBA playoff scheduleLowe: Derrick White, Josh Hart and the immense power of \"small\" tradesTOP HEADLINESBehind Brown\\'s 40, Celts flip G2 luck for 2-0 leadSources: Raiders redo contract to reward CrosbyNCAA, Power 5 agree to let schools pay playersHaliburton status up in air after injuring hamstringMcDavid bailed out after penalty, nets 2OT winnerUtd\\'s Onana on Ten Hag: \\'I\\'m not here to back him\\'Cop disciplined for not recording Scheffler arrestBronny garners bets to be top pick in NBA draftOffseason superlatives for NFC teamsWest Final - Game 1EDM leads series 1-0NCAA\\'S HISTORIC SETTLEMENTThamel: It\\'s a new day for college sports, but the future remains unclearA landmark settlement will provide billions in pay to college athletes. But because this is college sports, nothing will be easy.12hPete ThamelDaniel Shirey/USA TODAY SportsSVP calls the NCAA/Power 5 deal \\'long overdue\\'8h1:22STANLEY CUP PLAYOFFSCONFERENCE FINALSKaplan\\'s playoff buzz: What\\'s up with Wyatt Johnston, Matt Rempe and Sergei BobrovskyWith the conference finals underway, here\\'s what we\\'re hearing on the teams left, the Stanley Cup playoffs in general and what the offseason could bring.1dEmily KaplanCooper Neill/Getty ImagesConn Smythe Watch: Counting down top candidates for playoff MVPWe asked potential voters and media members for their top three players for postseason MVP. Here\\'s the top 10.1dGreg WyshynskiConn Smythe Trophy betting oddsPGA TOUR: CHARLES SCHWAB CHALLENGESTREAMING ON ESPN+SCHEFFLER UPDATEThe fallout continues from Scottie Scheffler\\'s Louisville arrest13h2:09New footage released in Scottie Scheffler\\'s arrest15h0:59UNHITTABLE ADDITIONSHit THIS! 12 nasty new pitches that are rocking MLB this seasonFrom devastating splitters to untouchable sweepers, here\\'s what pitchers have added to their 2024 arsenals.39mJeff PassanBenny Sieu-USA TODAY SportsHow Shota Imanaga went from under the radar to early Cy Young favoritePowered by an unhittable \\'optical illusion\\' pitch, the Cubs\\' new ace is taking MLB by storm.39mJesse RogersMLB SCOREBOARDTHURSDAY\\'S GAMESSee AllMLB standings2024 stat leadersTHE TEAMS MAKING NOISEReal or not? These unexpected teams are serious playoff contendersWe offer an early verdict on five of MLB\\'s most surprising teams almost two months into the 2024 season.1dDavid SchoenfieldJason Miller/Getty ImagesMLB Power Rankings: Who\\'s the new No. 1 team?As the battle in the NL continues between three powerhouses, one club makes its debut at the top spot.1dESPN Top HeadlinesBehind Brown\\'s 40, Celts flip G2 luck for 2-0 leadSources: Raiders redo contract to reward CrosbyNCAA, Power 5 agree to let schools pay playersHaliburton status up in air after injuring hamstringMcDavid bailed out after penalty, nets 2OT winnerUtd\\'s Onana on Ten Hag: \\'I\\'m not here to back him\\'Cop disciplined for not recording Scheffler arrestBronny garners bets to be top pick in NBA draftOffseason superlatives for NFC teamsFavorites FantasyManage FavoritesFantasy HomeCustomize ESPNCreate AccountLog InICYMI0:43Caitlin Clark fumbles inbounds pass in closing seconds as Fever lose againCaitlin Clark is smothered on a Fever inbounds play, leading to a jump ball late in the fourth against the Storm. Best of ESPN+ESPNUpdated 2024 top 50 MLB prospects: Skenes, Holliday, moreStarting with a player making headlines in the majors, let\\'s rank baseball\\'s next wave of future stars.Jesse Johnson/USA Today SportsRanking the top 12 NBA players through two rounds of playoffsYoung stars of the Wolves and Thunder both land in the top three of the playoffs\\' most valuable players (ranked by the numbers). Who else joins them?Cooper Neill/Getty ImagesBest NFL team fits for remaining free agents, trade candidatesWhere should Michael Thomas, Ryan Tannehill and Justin Simmons sign? Who should trade for Tee Higgins? Let\\'s find team fits for 15 players.Jamie Douglas/Icon Sportswire via Getty ImagesOffseason keys for NHL teams, including draft, free agencyWe explore the next moves each team should make this summer and forecast its 2024-25 outlook. Trending NowKevin Abele/Icon SportswireJaden Rashada-Florida NIL lawsuit: what to know, what comes nextThe former ESPN 300 QB sued Florida over a $13.85 million NIL deal. What\\'s next in this saga? Our reporters break it down.EPA/ADAM DAVIS SHUTTERSTOCK OUTHow an NBA title could impact Ant, Luka, Tatum and HaliburtonLuka Doncic, Anthony Edwards, Jayson Tatum or Tyrese Haliburton will win their first NBA title this year. What would a championship mean for the legacies of these young superstars?Nic Antaya/Getty ImagesHow Josh Hader set unprecedented rules to protect his healthThe inside story of the unprecedented usage rules Hader set before a team would commit to him long-term.Kasi OrrInside K.C. Chiefs\\' Derrick Nnadi\\'s quest to save shelter dogsSince the 2019-20 season, Nnadi has paid adoption fees for more than 500 dogs, and will do more this season. Sign up to play the #1 Fantasy game!Create A LeagueJoin Public LeagueReactivate A LeagueMock Draft NowSign up for FREE!Reactivate A LeagueCreate A LeagueJoin a Public LeaguePractice With a Mock DraftGet a custom ESPN experienceEnjoy the benefits of a personalized accountSelect your favorite leagues, teams and players and get the latest scores, news and updates that matter most to you. \\n\\nESPN+\\n\\n\\n\\n\\nPGA TOUR LIVE\\n\\n\\n\\n\\n\\n\\n\\nMLB\\n\\n\\n\\n\\n\\n\\n\\nUp For Debate\\n\\n\\n\\n\\n\\n\\n\\nUFC 302: Makhachev vs. Poirier (June 1, ESPN+ PPV)\\n\\n\\n\\n\\n\\n\\n\\nTwo-Round NBA Mock Draft\\n\\n\\nQuick Links\\n\\n\\n\\n\\nNFL Schedule\\n\\n\\n\\n\\n\\n\\n\\nNBA Postseason Tracker\\n\\n\\n\\n\\n\\n\\n\\nStanley Cup Playoffs\\n\\n\\n\\n\\n\\n\\n\\nNCAA Softball Tournament\\n\\n\\n\\n\\n\\n\\n\\nCollege Baseball Scoreboard\\n\\n\\n\\n\\n\\n\\n\\nWNBA Rookie Tracker\\n\\n\\n\\n\\n\\n\\n\\nESPN Radio: Listen Live\\n\\n\\n\\n\\n\\n\\n\\nWatch Golf on ESPN\\n\\n\\nFantasy\\n\\n\\n\\n\\nFootball\\n\\n\\n\\n\\n\\n\\n\\nBaseball\\n\\n\\n\\n\\n\\n\\n\\nBasketball\\n\\n\\n\\n\\n\\n\\n\\nHockey\\n\\n\\nESPN Sites\\n\\n\\n\\n\\nESPN Deportes\\n\\n\\n\\n\\n\\n\\n\\nAndscape\\n\\n\\n\\n\\n\\n\\n\\nespnW\\n\\n\\n\\n\\n\\n\\n\\nESPNFC\\n\\n\\n\\n\\n\\n\\n\\nX Games\\n\\n\\n\\n\\n\\n\\n\\nSEC Network\\n\\n\\nESPN Apps\\n\\n\\n\\n\\nESPN\\n\\n\\n\\n\\n\\n\\n\\nESPN Fantasy\\n\\n\\n\\n\\n\\n\\n\\nTournament Challenge\\n\\n\\nFollow ESPN\\n\\n\\n\\n\\nFacebook\\n\\n\\n\\n\\n\\n\\n\\nX/Twitter\\n\\n\\n\\n\\n\\n\\n\\nInstagram\\n\\n\\n\\n\\n\\n\\n\\nSnapchat\\n\\n\\n\\n\\n\\n\\n\\nTikTok\\n\\n\\n\\n\\n\\n\\n\\nYouTube\\n\\n\\nTerms of UsePrivacy PolicyInterest-Based AdsÂ© ESPN Enterprises, Inc. All rights reserved.\\n\\n\\n\\n\\n\\n\\n\\n\\n\\n\\n\\n\\n\\n\\n\\n\\n\\n', metadata={'source': 'https://www.espn.com/', 'title': 'ESPN - Serving Sports Fans. Anytime. Anywhere.', 'description': 'Visit ESPN for live scores, highlights and sports news. Stream exclusive games on ESPN+ and play fantasy sports.', 'language': 'en'}),\n",
       " Document(page_content='Google검색이미지지도PlayYouTube뉴스Gmail드라이브더보기캘린더번역도서쇼핑Blogger금융사진문서모두 보기Account Options로그인검색 환경설정웹 기록\\xa0고급검색Google 지원 언어:  English 광고비즈니스 솔루션Google 정보Google.co.kr© 2024 - 개인정보처리방침 - 약관   ', metadata={'source': 'https://google.com', 'title': 'Google', 'language': 'ko'})]"
      ]
     },
     "execution_count": 19,
     "metadata": {},
     "output_type": "execute_result"
    }
   ],
   "source": [
    "loader = WebBaseLoader([\"https://www.espn.com/\", \"https://google.com\"])\n",
    "docs = loader.load()\n",
    "docs"
   ]
  },
  {
   "cell_type": "markdown",
   "id": "55e9f86b-fabb-4f78-9a0c-eb6062e3b25f",
   "metadata": {},
   "source": [
    "## **특정 경로 내의 모든 파일 불러오기, DirectoryLoader**"
   ]
  },
  {
   "cell_type": "code",
   "execution_count": 21,
   "id": "01244f3a-eb10-44bf-ab99-fd539eaa1f2a",
   "metadata": {},
   "outputs": [
    {
     "data": {
      "text/plain": [
       "['C:\\\\Users\\\\gram\\\\Desktop\\\\Langchain\\\\DocumentLoader\\\\BOK 이슈노트 제2022-38호 인공지능 언어모형을 이용한 인플레이션 어조지수 개발 및 시사점.pdf',\n",
       " 'C:\\\\Users\\\\gram\\\\Desktop\\\\Langchain\\\\DocumentLoader\\\\Transformer_paper.pdf',\n",
       " 'C:\\\\Users\\\\gram\\\\Desktop\\\\Langchain\\\\DocumentLoader\\\\[이슈리포트 2022-2호] 혁신성장 정책금융 동향.pdf']"
      ]
     },
     "execution_count": 21,
     "metadata": {},
     "output_type": "execute_result"
    }
   ],
   "source": [
    "from langchain_community.document_loaders import DirectoryLoader\n",
    "#첫번째 매개변수로 경로 입력, glob에 해당 경로에서 불러들일 파일의 형식 지정\n",
    "#*는 모든 문자를 표현하는 와일드카드로, .pdf로 끝나는 모든 파일을 의미함\n",
    "loader = DirectoryLoader(r'C:\\Users\\gram\\Desktop\\Langchain\\DocumentLoader', glob=\"*.pdf\")\n",
    "docs = loader.load()\n",
    "[i.metadata['source'] for i in docs]"
   ]
  },
  {
   "cell_type": "code",
   "execution_count": null,
   "id": "7f1a14de-4b0c-4b1e-be61-a0f86c55964c",
   "metadata": {},
   "outputs": [],
   "source": []
  }
 ],
 "metadata": {
  "kernelspec": {
   "display_name": "Python 3 (ipykernel)",
   "language": "python",
   "name": "python3"
  },
  "language_info": {
   "codemirror_mode": {
    "name": "ipython",
    "version": 3
   },
   "file_extension": ".py",
   "mimetype": "text/x-python",
   "name": "python",
   "nbconvert_exporter": "python",
   "pygments_lexer": "ipython3",
   "version": "3.11.7"
  }
 },
 "nbformat": 4,
 "nbformat_minor": 5
}
