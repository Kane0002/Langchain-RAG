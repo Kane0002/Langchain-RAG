{
 "cells": [
  {
   "cell_type": "markdown",
   "id": "51fd9159-e8ba-477b-9b20-a22438307df1",
   "metadata": {
    "id": "51fd9159-e8ba-477b-9b20-a22438307df1"
   },
   "source": [
    "## **PDF Loaders**"
   ]
  },
  {
   "cell_type": "markdown",
   "id": "4d8476f5-73b4-419f-9741-a2d95f9d5263",
   "metadata": {
    "id": "4d8476f5-73b4-419f-9741-a2d95f9d5263"
   },
   "source": [
    "### **PyPDF Loader**"
   ]
  },
  {
   "cell_type": "code",
   "execution_count": null,
   "id": "5783fe14-26b1-4488-8c03-88d254f43ca9",
   "metadata": {
    "id": "5783fe14-26b1-4488-8c03-88d254f43ca9"
   },
   "outputs": [],
   "source": [
    "# #PyPDF 설치\n",
    "# !pip install langchain langchain-community pypdf"
   ]
  },
  {
   "cell_type": "markdown",
   "id": "2ad7618e-ecf1-4c0c-a057-1144943e1396",
   "metadata": {
    "id": "2ad7618e-ecf1-4c0c-a057-1144943e1396"
   },
   "source": [
    "**[이미지+텍스트 페이지 내 텍스트 추출]**"
   ]
  },
  {
   "cell_type": "code",
   "execution_count": 1,
   "id": "99b0a25c-65ff-4a57-849d-448f3165d563",
   "metadata": {
    "execution": {
     "iopub.execute_input": "2024-10-14T15:15:12.677014Z",
     "iopub.status.busy": "2024-10-14T15:15:12.675827Z",
     "iopub.status.idle": "2024-10-14T15:15:17.262496Z",
     "shell.execute_reply": "2024-10-14T15:15:17.262496Z",
     "shell.execute_reply.started": "2024-10-14T15:15:12.677014Z"
    },
    "id": "99b0a25c-65ff-4a57-849d-448f3165d563"
   },
   "outputs": [
    {
     "name": "stdout",
     "output_type": "stream",
     "text": [
      "| 6 | CIS이슈리포트 2022-2 호 ▶(주요품목 ① : 5G 이동통신 ) 정보통신 테마 내 기술분야 중 혁신성장 정책금융 공급규모가 가장 큰 \n",
      "차세대무선통신미디어 분야의 경우 4G/5G 기술품목의 정책금융 공급 비중이 가장 높은 것으로 확인됨\n",
      "[차세대무선통신미디어 분야 내 기술품목별 혁신성장 정책금융 공급액 추이]\n",
      "(단위: 억 원)\n",
      "▶5G 이동통신 시스템은 ITU(International Telecommunication Union) 가 정의한 5세대 이동통신  \n",
      "규격을 만족시키는 무선 이동통신 네트워크 기술로 , 2019 년부터 국내 서비스를 시작함\n",
      "￮4G 이동통신 시스템 (LTE) 과 비교할 때 전송속도의 향상(1Gbps →20Gbps), 이동성 향상\n",
      "(350km/h →500km/h 에서 끊김없는 데이터 전송 가능), 최대 연결가능 기기수 증가(10만 대 →\n",
      "100만 대 이상), 데이터 전송지연 감소(10ms →1ms) 등의 향상된 기능을 제공함\n",
      "￮5G는 전송속도 향상, 다수기기 접속 및 지연시간 단축을 위해 ①밀리미터파 통신이 가능한 주파수 \n",
      "확장, ②스몰셀 (Small cell)을 도입한 기지국 , ③다중안테나 송수신 (Massive MIMO), ④네트워크 \n",
      "슬라이싱 (Network Slicing) 등의 기술을 도입함\n",
      "[5G 주요 요소기술 특징]\n",
      "자료: 삼정 KPMG\n"
     ]
    }
   ],
   "source": [
    "#PyPDFLoader 불러오기\n",
    "from langchain.document_loaders import PyPDFLoader\n",
    "filename = \"../data/[이슈리포트 2022-2호] 혁신성장 정책금융 동향.pdf\"\n",
    "# PDF파일 불러올 객체 PyPDFLoader 선언\n",
    "loader = PyPDFLoader(filename)\n",
    "\n",
    "# PDF파일 로드 및 페이지별로 자르기\n",
    "pages = loader.load_and_split()\n",
    "print(pages[5].page_content)"
   ]
  },
  {
   "cell_type": "markdown",
   "id": "ae9af824-f25b-473c-93e2-8ca6ce8983e9",
   "metadata": {
    "id": "ae9af824-f25b-473c-93e2-8ca6ce8983e9"
   },
   "source": [
    "**[OCR 기능 활용하여 이미지-텍스트 혼합 페이지 내 텍스트 추출하기]**"
   ]
  },
  {
   "cell_type": "code",
   "execution_count": null,
   "id": "c68bdbf8-8722-40a9-90f2-77464a89e46c",
   "metadata": {
    "id": "c68bdbf8-8722-40a9-90f2-77464a89e46c"
   },
   "outputs": [],
   "source": [
    "# #OCR기능 위해 설치\n",
    "# !pip install rapidocr-onnxruntime"
   ]
  },
  {
   "cell_type": "markdown",
   "id": "a36f3829-bcd0-4f27-b0af-d960db8af1e8",
   "metadata": {
    "id": "a36f3829-bcd0-4f27-b0af-d960db8af1e8"
   },
   "source": [
    "*아래 셀은 실행 시 많은 시간이 소요됩니다."
   ]
  },
  {
   "cell_type": "code",
   "execution_count": 2,
   "id": "be08e923-c8dd-403e-b69e-f0074c7dcc2b",
   "metadata": {
    "execution": {
     "iopub.execute_input": "2024-10-14T15:15:26.414725Z",
     "iopub.status.busy": "2024-10-14T15:15:26.414725Z",
     "iopub.status.idle": "2024-10-14T15:16:50.263366Z",
     "shell.execute_reply": "2024-10-14T15:16:50.262354Z",
     "shell.execute_reply.started": "2024-10-14T15:15:26.414725Z"
    },
    "id": "be08e923-c8dd-403e-b69e-f0074c7dcc2b"
   },
   "outputs": [
    {
     "name": "stdout",
     "output_type": "stream",
     "text": [
      "| 6 | CIS이슈리포트 2022-2 호 ▶(주요품목 ① : 5G 이동통신 ) 정보통신 테마 내 기술분야 중 혁신성장 정책금융 공급규모가 가장 큰 \n",
      "차세대무선통신미디어 분야의 경우 4G/5G 기술품목의 정책금융 공급 비중이 가장 높은 것으로 확인됨\n",
      "[차세대무선통신미디어 분야 내 기술품목별 혁신성장 정책금융 공급액 추이]\n",
      "(단위: 억 원)\n",
      "▶5G 이동통신 시스템은 ITU(International Telecommunication Union) 가 정의한 5세대 이동통신  \n",
      "규격을 만족시키는 무선 이동통신 네트워크 기술로 , 2019 년부터 국내 서비스를 시작함\n",
      "￮4G 이동통신 시스템 (LTE) 과 비교할 때 전송속도의 향상(1Gbps →20Gbps), 이동성 향상\n",
      "(350km/h →500km/h 에서 끊김없는 데이터 전송 가능), 최대 연결가능 기기수 증가(10만 대 →\n",
      "100만 대 이상), 데이터 전송지연 감소(10ms →1ms) 등의 향상된 기능을 제공함\n",
      "￮5G는 전송속도 향상, 다수기기 접속 및 지연시간 단축을 위해 ①밀리미터파 통신이 가능한 주파수 \n",
      "확장, ②스몰셀 (Small cell)을 도입한 기지국 , ③다중안테나 송수신 (Massive MIMO), ④네트워크 \n",
      "슬라이싱 (Network Slicing) 등의 기술을 도입함\n",
      "[5G 주요 요소기술 특징]\n",
      "자료: 삼정 KPMG25,000\n",
      "20,000\n",
      "15,000\n",
      "10,000\n",
      "5,000\n",
      "2017\n",
      "2018\n",
      "2019\n",
      "2020\n",
      "2021\n",
      "4G/5G \n",
      "(IoT,M2M)\n",
      "号MassiveMIMO+\n",
      "4G5G\n",
      "（）\n",
      "+\n",
      "4G\n",
      "4G\n",
      "5G\n",
      "2.6Ghz\n",
      "3.5Ghz\n",
      "28Ghz\n",
      "(m）\n",
      "5G\n",
      "|（1k0|H）\n",
      "Massive\n",
      "（km）\n",
      "loT\n",
      "5G3.5Ghz28Ghz0\n",
      "MassiveMIMOEL0\n",
      "Korea\n",
      "Credit\n",
      "Information\n",
      "Services\n"
     ]
    }
   ],
   "source": [
    "#PyPDFLoader 불러오기\n",
    "from langchain.document_loaders import PyPDFLoader\n",
    "\n",
    "# PDF파일 불러올 객체 PyPDFLoader 선언(extract_images 매개변수로 OCR 수행)\n",
    "loader = PyPDFLoader(filename, extract_images=True)\n",
    "\n",
    "# PDF파일 로드 및 페이지별로 자르기\n",
    "pages = loader.load_and_split()\n",
    "print(pages[5].page_content)"
   ]
  },
  {
   "cell_type": "markdown",
   "id": "ee45f1ad-3e43-4573-803c-a778ea6c4f3b",
   "metadata": {
    "id": "ee45f1ad-3e43-4573-803c-a778ea6c4f3b"
   },
   "source": [
    "**[페이지 내 테이블 추출하기]**"
   ]
  },
  {
   "cell_type": "code",
   "execution_count": 4,
   "id": "5952aae1-ad13-403c-8a97-798b8977a166",
   "metadata": {
    "execution": {
     "iopub.execute_input": "2024-10-14T15:17:08.928927Z",
     "iopub.status.busy": "2024-10-14T15:17:08.927918Z",
     "iopub.status.idle": "2024-10-14T15:17:11.148096Z",
     "shell.execute_reply": "2024-10-14T15:17:11.148096Z",
     "shell.execute_reply.started": "2024-10-14T15:17:08.928927Z"
    },
    "id": "5952aae1-ad13-403c-8a97-798b8977a166"
   },
   "outputs": [
    {
     "name": "stdout",
     "output_type": "stream",
     "text": [
      "page_content='| 4 | CIS이슈리포트 2022-2 호 [혁신성장 ICT 산업 정책금융 공급 현황]\n",
      "                                                            (단위: 억 원, 괄호는 점유율 %)\n",
      "구분 2017 년 말 2018 년 말 2019 년 말 2020 년 말 2021 년 말\n",
      "혁신성장 ICT 산업45,075 72,799 81,805 139,687 169,089 \n",
      "(18.7) (20.7) (18.5) (20.3) (19.8)\n",
      "정보통신15,658 27,417 39,033 65,324 77,750 \n",
      "(6.5) (7.8) (8.8) (9.5) (9.1)\n",
      "전기전자26,637 38,521 35,922 62,856 77,485 \n",
      "(11.1) (10.9) (8.1) (9.1) (9.1)\n",
      "센서측정2,780 6,861 6,851 11,506 13,854 \n",
      "(1.2) (1.9) (1.5) (1.7) (1.6)\n",
      "혁신성장 정책금융 \n",
      "총 공급액240,787 351,987 443,180 688,409 854,338 \n",
      "3. 정보통신 테마 혁신성장 정책금융 현황 및 관련 산업 동향\n",
      "▶(지원 현황) 정보통신 테마를 구성하는 기술분야별 정책금융 지원 현황 분석결과 , 공급점유율 관점\n",
      "에서는 차세대무선통신미디어 분야에 가장 많은 정책자금이 투입 되고 있으며 , 공급량 증가율 관점\n",
      "에서는  능동형컴퓨팅 분야로의 정책자금 지원 증가 속도가 가장 빠른 추세임\n",
      "￮차세대무선통신미디어란 전송속도 향상, 소모전력 절감, 고속이동 중 끊김없는 통신 등 새로운 무선\n",
      "환경에 필요한 통신, 인프라 및 서비스 기술을 통칭하며 , 4G/5G/6G, 사물인터넷 , 방송통신인프라 \n",
      "등의 품목으로 구성됨\n",
      "-정보통신 테마 내 혁신성장 정책금융 공급 규모의 약 50%를 점유하고 있으며 , 이는 초연결 미래\n",
      "사회를 구축하기 위해 네트워크 기반 기술 사업화에 대한 정책자금 공급이 꾸준함에 따른 것으로 \n",
      "분석됨\n",
      "￮능동형컴퓨팅이란 거대하고 복잡해지는 데이터의 효율적 가공과 관리를 위한 인간두뇌와 유사한 \n",
      "형태의 정보처리기술을 말하며 , 인공지능 , 상황인지컴퓨팅 등의 품목으로 구성됨\n",
      "-컴퓨팅 기술을 활용한 다양한 사업화가 활발히 진행되고 있어 혁신성장 정책금융 공급 규모가 매년 \n",
      "약 100% 수준으로 증가하고 있으며 , 새정부의 ‘미래 먹거리산업 신성장 전략추진*’에 따라 인공\n",
      "지능 관련 기술로의 금융지원이 늘어날 것으로 전망됨\n",
      "       * 에너지 , 방산, 우주항공 , 인공지능 (AI), 바이오 , 탄소중립 대응, 스마트농업을 차세대 6대 먹거리 산업으로 선정' metadata={'source': '../data/[이슈리포트 2022-2호] 혁신성장 정책금융 동향.pdf', 'page': 3}\n"
     ]
    }
   ],
   "source": [
    "#PyPDFLoader 불러오기\n",
    "from langchain.document_loaders import PyPDFLoader\n",
    "\n",
    "# PDF파일 불러올 객체 PyPDFLoader 선언\n",
    "loader = PyPDFLoader(filename)\n",
    "\n",
    "# PDF파일 로드 및 페이지별로 자르기\n",
    "pages = loader.load_and_split()\n",
    "print(pages[3])"
   ]
  },
  {
   "cell_type": "markdown",
   "id": "9a1810c5-ca25-48cf-9714-bbf59029d205",
   "metadata": {
    "id": "9a1810c5-ca25-48cf-9714-bbf59029d205"
   },
   "source": [
    "### **PyPDFium2**"
   ]
  },
  {
   "cell_type": "markdown",
   "id": "e381093d-0740-44db-9166-6f944803eaef",
   "metadata": {
    "id": "e381093d-0740-44db-9166-6f944803eaef"
   },
   "source": [
    "**[이미지+텍스트 페이지 내 텍스트 추출]**"
   ]
  },
  {
   "cell_type": "code",
   "execution_count": 5,
   "id": "a57e532a-ca50-463d-b2f9-8bf5c4b91e4b",
   "metadata": {
    "execution": {
     "iopub.execute_input": "2024-10-14T15:17:11.150102Z",
     "iopub.status.busy": "2024-10-14T15:17:11.149103Z",
     "iopub.status.idle": "2024-10-14T15:17:11.152360Z",
     "shell.execute_reply": "2024-10-14T15:17:11.152360Z",
     "shell.execute_reply.started": "2024-10-14T15:17:11.150102Z"
    },
    "id": "a57e532a-ca50-463d-b2f9-8bf5c4b91e4b"
   },
   "outputs": [],
   "source": [
    "# #PyPDFium2 설치\n",
    "# !pip install pypdfium2"
   ]
  },
  {
   "cell_type": "code",
   "execution_count": 6,
   "id": "75a43510-2e68-4a64-bb7a-f49895429e11",
   "metadata": {
    "execution": {
     "iopub.execute_input": "2024-10-14T15:17:11.153366Z",
     "iopub.status.busy": "2024-10-14T15:17:11.153366Z",
     "iopub.status.idle": "2024-10-14T15:17:11.668839Z",
     "shell.execute_reply": "2024-10-14T15:17:11.668839Z",
     "shell.execute_reply.started": "2024-10-14T15:17:11.153366Z"
    },
    "id": "75a43510-2e68-4a64-bb7a-f49895429e11"
   },
   "outputs": [
    {
     "name": "stdout",
     "output_type": "stream",
     "text": [
      "| 6 | CIS이슈리포트 2022-2호 \n",
      "▶ (주요품목① : 5G 이동통신) 정보통신 테마 내 기술분야 중 혁신성장 정책금융 공급규모가 가장 큰\n",
      "차세대무선통신미디어 분야의 경우 4G/5G 기술품목의 정책금융 공급 비중이 가장 높은 것으로 확인됨\n",
      "[차세대무선통신미디어 분야 내 기술품목별 혁신성장 정책금융 공급액 추이]\n",
      "(단위: 억 원)\n",
      "▶ 5G 이동통신 시스템은 ITU(International Telecommunication Union)가 정의한 5세대 이동통신\n",
      "규격을 만족시키는 무선 이동통신 네트워크 기술로, 2019년부터 국내 서비스를 시작함\n",
      "￮ 4G 이동통신 시스템(LTE)과 비교할 때 전송속도의 향상(1Gbps→20Gbps), 이동성 향상\n",
      "(350km/h→500km/h에서 끊김없는 데이터 전송 가능), 최대 연결가능 기기수 증가(10만 대 →\n",
      "100만 대 이상), 데이터 전송지연 감소(10ms→1ms) 등의 향상된 기능을 제공함\n",
      "￮ 5G는 전송속도 향상, 다수기기 접속 및 지연시간 단축을 위해 ①밀리미터파 통신이 가능한 주파수 \n",
      "확장, ②스몰셀(Small cell)을 도입한 기지국, ③다중안테나 송수신(Massive MIMO), ④네트워크 \n",
      "슬라이싱(Network Slicing) 등의 기술을 도입함\n",
      "[5G 주요 요소기술 특징]\n",
      "자료: 삼정 KPMG\n",
      "\n"
     ]
    },
    {
     "name": "stderr",
     "output_type": "stream",
     "text": [
      "C:\\Users\\user\\AppData\\Roaming\\Python\\Python312\\site-packages\\pypdfium2\\_helpers\\textpage.py:80: UserWarning: get_text_range() call with default params will be implicitly redirected to get_text_bounded()\n",
      "  warnings.warn(\"get_text_range() call with default params will be implicitly redirected to get_text_bounded()\")\n"
     ]
    }
   ],
   "source": [
    "#PyPDFium2 불러오기\n",
    "from langchain.document_loaders import PyPDFium2Loader\n",
    "\n",
    "# PDF파일 불러올 객체 PyPDFium2Loader 선언\n",
    "loader = PyPDFium2Loader(filename)\n",
    "\n",
    "# PDF파일 로드 및 페이지별로 자르기(PyPDFium2는 load_and_split 함수 없이도 페이지별로 자름)\n",
    "data = loader.load()\n",
    "print(data[5].page_content)"
   ]
  },
  {
   "cell_type": "markdown",
   "id": "b35cfbc8-a246-42f5-8ff1-68101515ddff",
   "metadata": {
    "id": "b35cfbc8-a246-42f5-8ff1-68101515ddff"
   },
   "source": [
    "**[페이지 내 테이블 추출하기]**"
   ]
  },
  {
   "cell_type": "code",
   "execution_count": 8,
   "id": "945a0cac-2b3d-4f60-8af8-9f733f54fc98",
   "metadata": {
    "execution": {
     "iopub.execute_input": "2024-10-14T15:17:15.605408Z",
     "iopub.status.busy": "2024-10-14T15:17:15.604411Z",
     "iopub.status.idle": "2024-10-14T15:17:15.729471Z",
     "shell.execute_reply": "2024-10-14T15:17:15.728462Z",
     "shell.execute_reply.started": "2024-10-14T15:17:15.604411Z"
    },
    "id": "945a0cac-2b3d-4f60-8af8-9f733f54fc98"
   },
   "outputs": [
    {
     "name": "stdout",
     "output_type": "stream",
     "text": [
      "| 4 | CIS이슈리포트 2022-2호 \n",
      "[혁신성장 ICT 산업 정책금융 공급 현황]\n",
      " (단위: 억 원, 괄호는 점유율 %)\n",
      "구분 2017년 말 2018년 말 2019년 말 2020년 말 2021년 말\n",
      "혁신성장 ICT 산업\n",
      "45,075 72,799 81,805 139,687 169,089 \n",
      "(18.7) (20.7) (18.5) (20.3) (19.8)\n",
      "정보통신\n",
      "15,658 27,417 39,033 65,324 77,750 \n",
      "(6.5) (7.8) (8.8) (9.5) (9.1)\n",
      "전기전자\n",
      "26,637 38,521 35,922 62,856 77,485 \n",
      "(11.1) (10.9) (8.1) (9.1) (9.1)\n",
      "센서측정\n",
      "2,780 6,861 6,851 11,506 13,854 \n",
      "(1.2) (1.9) (1.5) (1.7) (1.6)\n",
      "혁신성장 정책금융 \n",
      "총 공급액 240,787 351,987 443,180 688,409 854,338 \n",
      "3. 정보통신 테마 혁신성장 정책금융 현황 및 관련 산업 동향\n",
      "▶ (지원 현황) 정보통신 테마를 구성하는 기술분야별 정책금융 지원 현황 분석결과, 공급점유율 관점\n",
      "에서는 차세대무선통신미디어 분야에 가장 많은 정책자금이 투입 되고 있으며, 공급량 증가율 관점\n",
      "에서는 능동형컴퓨팅 분야로의 정책자금 지원 증가 속도가 가장 빠른 추세임\n",
      "￮ 차세대무선통신미디어란 전송속도 향상, 소모전력 절감, 고속이동 중 끊김없는 통신 등 새로운 무선\n",
      "환경에 필요한 통신, 인프라 및 서비스 기술을 통칭하며, 4G/5G/6G, 사물인터넷, 방송통신인프라 \n",
      "등의 품목으로 구성됨\n",
      "- 정보통신 테마 내 혁신성장 정책금융 공급 규모의 약 50%를 점유하고 있으며, 이는 초연결 미래\n",
      "사회를 구축하기 위해 네트워크 기반 기술 사업화에 대한 정책자금 공급이 꾸준함에 따른 것으로 \n",
      "분석됨\n",
      "￮ 능동형컴퓨팅이란 거대하고 복잡해지는 데이터의 효율적 가공과 관리를 위한 인간두뇌와 유사한 \n",
      "형태의 정보처리기술을 말하며, 인공지능, 상황인지컴퓨팅 등의 품목으로 구성됨\n",
      "- 컴퓨팅 기술을 활용한 다양한 사업화가 활발히 진행되고 있어 혁신성장 정책금융 공급 규모가 매년\n",
      "약 100% 수준으로 증가하고 있으며, 새정부의 ‘미래 먹거리산업 신성장 전략추진*’에 따라 인공\n",
      "지능 관련 기술로의 금융지원이 늘어날 것으로 전망됨\n",
      " * 에너지, 방산, 우주항공, 인공지능(AI), 바이오, 탄소중립 대응, 스마트농업을 차세대 6대 먹거리 산업으로 선정\n",
      "\n"
     ]
    }
   ],
   "source": [
    "#PyPDFium2 불러오기\n",
    "from langchain.document_loaders import PyPDFium2Loader\n",
    "\n",
    "# PDF파일 불러올 객체 PyPDFium2Loader 선언\n",
    "loader = PyPDFium2Loader(filename)\n",
    "\n",
    "# PDF파일 로드 및 페이지별로 자르기(PyPDFium2는 load_and_split 함수 없이도 페이지별로 자름)\n",
    "data = loader.load()\n",
    "print(data[3].page_content)"
   ]
  },
  {
   "cell_type": "markdown",
   "id": "ec348480-4b57-4830-997e-62794e8dc259",
   "metadata": {
    "id": "ec348480-4b57-4830-997e-62794e8dc259"
   },
   "source": [
    "### **PyPDFLoader vs PyPDFium2Loader**"
   ]
  },
  {
   "cell_type": "markdown",
   "id": "2eab9ad4-e454-47ed-9642-f4a7a6c592cf",
   "metadata": {
    "id": "2eab9ad4-e454-47ed-9642-f4a7a6c592cf"
   },
   "source": [
    "**[PyPDFLoader의 텍스트 추출 소요 시간]**"
   ]
  },
  {
   "cell_type": "code",
   "execution_count": 9,
   "id": "0c20b0fd-6f8d-48c4-bd0b-728f7a243cc4",
   "metadata": {
    "execution": {
     "iopub.execute_input": "2024-10-14T15:17:26.957257Z",
     "iopub.status.busy": "2024-10-14T15:17:26.956245Z",
     "iopub.status.idle": "2024-10-14T15:17:29.089917Z",
     "shell.execute_reply": "2024-10-14T15:17:29.089917Z",
     "shell.execute_reply.started": "2024-10-14T15:17:26.957257Z"
    },
    "id": "0c20b0fd-6f8d-48c4-bd0b-728f7a243cc4"
   },
   "outputs": [
    {
     "name": "stdout",
     "output_type": "stream",
     "text": [
      "CPU times: total: 859 ms\n",
      "Wall time: 2.13 s\n"
     ]
    }
   ],
   "source": [
    "%%time\n",
    "from langchain.document_loaders import PyPDFLoader\n",
    "\n",
    "loader = PyPDFLoader(filename)\n",
    "\n",
    "pages = loader.load_and_split()"
   ]
  },
  {
   "cell_type": "markdown",
   "id": "4a1aaacc-1bc8-434a-826e-5fd05273884c",
   "metadata": {
    "id": "4a1aaacc-1bc8-434a-826e-5fd05273884c"
   },
   "source": [
    "**[PyPDFium2의 텍스트 추출 소요 시간]**"
   ]
  },
  {
   "cell_type": "code",
   "execution_count": 10,
   "id": "998e311c-95ce-4b98-814d-5e1ccc16c2a4",
   "metadata": {
    "execution": {
     "iopub.execute_input": "2024-10-14T15:17:29.091928Z",
     "iopub.status.busy": "2024-10-14T15:17:29.091928Z",
     "iopub.status.idle": "2024-10-14T15:17:29.216501Z",
     "shell.execute_reply": "2024-10-14T15:17:29.216501Z",
     "shell.execute_reply.started": "2024-10-14T15:17:29.091928Z"
    },
    "id": "998e311c-95ce-4b98-814d-5e1ccc16c2a4"
   },
   "outputs": [
    {
     "name": "stdout",
     "output_type": "stream",
     "text": [
      "CPU times: total: 46.9 ms\n",
      "Wall time: 119 ms\n"
     ]
    }
   ],
   "source": [
    "%%time\n",
    "from langchain.document_loaders import PyPDFium2Loader\n",
    "\n",
    "loader = PyPDFium2Loader(filename)\n",
    "\n",
    "pages = loader.load()"
   ]
  },
  {
   "cell_type": "code",
   "execution_count": null,
   "id": "d62dab6c-efb0-4d8d-ace8-972240741f8f",
   "metadata": {},
   "outputs": [],
   "source": []
  }
 ],
 "metadata": {
  "colab": {
   "provenance": []
  },
  "kernelspec": {
   "display_name": "Python 3 (ipykernel)",
   "language": "python",
   "name": "python3"
  },
  "language_info": {
   "codemirror_mode": {
    "name": "ipython",
    "version": 3
   },
   "file_extension": ".py",
   "mimetype": "text/x-python",
   "name": "python",
   "nbconvert_exporter": "python",
   "pygments_lexer": "ipython3",
   "version": "3.12.7"
  }
 },
 "nbformat": 4,
 "nbformat_minor": 5
}
