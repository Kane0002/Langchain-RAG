{
 "cells": [
  {
   "cell_type": "markdown",
   "id": "51fd9159-e8ba-477b-9b20-a22438307df1",
   "metadata": {},
   "source": [
    "## **PDF Loaders**"
   ]
  },
  {
   "cell_type": "markdown",
   "id": "4d8476f5-73b4-419f-9741-a2d95f9d5263",
   "metadata": {},
   "source": [
    "### **PyPDF Loader**"
   ]
  },
  {
   "cell_type": "code",
   "execution_count": null,
   "id": "5783fe14-26b1-4488-8c03-88d254f43ca9",
   "metadata": {},
   "outputs": [],
   "source": [
    "#PyPDF 설치\n",
    "!pip install pypdf"
   ]
  },
  {
   "cell_type": "markdown",
   "id": "2ad7618e-ecf1-4c0c-a057-1144943e1396",
   "metadata": {},
   "source": [
    "**[이미지+텍스트 페이지 내 텍스트 추출]**"
   ]
  },
  {
   "cell_type": "code",
   "execution_count": 3,
   "id": "99b0a25c-65ff-4a57-849d-448f3165d563",
   "metadata": {},
   "outputs": [
    {
     "name": "stdout",
     "output_type": "stream",
     "text": [
      "| 6 | CIS이슈리포트 2022-2 호 ▶(주요품목 ① : 5G 이동통신 ) 정보통신 테마 내 기술분야 중 혁신성장 정책금융 공급규모가 가장 큰 \n",
      "차세대무선통신미디어 분야의 경우 4G/5G 기술품목의 정책금융 공급 비중이 가장 높은 것으로 확인됨\n",
      "[차세대무선통신미디어 분야 내 기술품목별 혁신성장 정책금융 공급액 추이]\n",
      "(단위: 억 원)\n",
      "▶5G 이동통신 시스템은 ITU(International Telecommunication Union) 가 정의한 5세대 이동통신  \n",
      "규격을 만족시키는 무선 이동통신 네트워크 기술로 , 2019 년부터 국내 서비스를 시작함\n",
      "￮4G 이동통신 시스템 (LTE) 과 비교할 때 전송속도의 향상(1Gbps →20Gbps), 이동성 향상\n",
      "(350km/h →500km/h 에서 끊김없는 데이터 전송 가능), 최대 연결가능 기기수 증가(10만 대 →\n",
      "100만 대 이상), 데이터 전송지연 감소(10ms →1ms) 등의 향상된 기능을 제공함\n",
      "￮5G는 전송속도 향상, 다수기기 접속 및 지연시간 단축을 위해 ①밀리미터파 통신이 가능한 주파수 \n",
      "확장, ②스몰셀 (Small cell)을 도입한 기지국 , ③다중안테나 송수신 (Massive MIMO), ④네트워크 \n",
      "슬라이싱 (Network Slicing) 등의 기술을 도입함\n",
      "[5G 주요 요소기술 특징]\n",
      "자료: 삼정 KPMG\n"
     ]
    }
   ],
   "source": [
    "#PyPDFLoader 불러오기\n",
    "from langchain_community.document_loaders import PyPDFLoader\n",
    "\n",
    "# PDF파일 불러올 객체 PyPDFLoader 선언\n",
    "loader = PyPDFLoader(r\"C:\\Users\\gram\\Desktop\\Langchain\\DocumentLoader\\[이슈리포트 2022-2호] 혁신성장 정책금융 동향.pdf\")\n",
    "\n",
    "# PDF파일 로드 및 페이지별로 자르기\n",
    "pages = loader.load_and_split() \n",
    "print(pages[5].page_content)"
   ]
  },
  {
   "cell_type": "markdown",
   "id": "ae9af824-f25b-473c-93e2-8ca6ce8983e9",
   "metadata": {},
   "source": [
    "**[OCR 기능 활용하여 이미지-텍스트 혼합 페이지 내 텍스트 추출하기]**"
   ]
  },
  {
   "cell_type": "code",
   "execution_count": null,
   "id": "c68bdbf8-8722-40a9-90f2-77464a89e46c",
   "metadata": {},
   "outputs": [],
   "source": [
    "#OCR기능 위해 설치\n",
    "!pip install rapidocr-onnxruntime"
   ]
  },
  {
   "cell_type": "markdown",
   "id": "a36f3829-bcd0-4f27-b0af-d960db8af1e8",
   "metadata": {},
   "source": [
    "*아래 셀은 실행 시 많은 시간이 소요됩니다."
   ]
  },
  {
   "cell_type": "code",
   "execution_count": 4,
   "id": "be08e923-c8dd-403e-b69e-f0074c7dcc2b",
   "metadata": {},
   "outputs": [
    {
     "name": "stdout",
     "output_type": "stream",
     "text": [
      "| 6 | CIS이슈리포트 2022-2 호 ▶(주요품목 ① : 5G 이동통신 ) 정보통신 테마 내 기술분야 중 혁신성장 정책금융 공급규모가 가장 큰 \n",
      "차세대무선통신미디어 분야의 경우 4G/5G 기술품목의 정책금융 공급 비중이 가장 높은 것으로 확인됨\n",
      "[차세대무선통신미디어 분야 내 기술품목별 혁신성장 정책금융 공급액 추이]\n",
      "(단위: 억 원)\n",
      "▶5G 이동통신 시스템은 ITU(International Telecommunication Union) 가 정의한 5세대 이동통신  \n",
      "규격을 만족시키는 무선 이동통신 네트워크 기술로 , 2019 년부터 국내 서비스를 시작함\n",
      "￮4G 이동통신 시스템 (LTE) 과 비교할 때 전송속도의 향상(1Gbps →20Gbps), 이동성 향상\n",
      "(350km/h →500km/h 에서 끊김없는 데이터 전송 가능), 최대 연결가능 기기수 증가(10만 대 →\n",
      "100만 대 이상), 데이터 전송지연 감소(10ms →1ms) 등의 향상된 기능을 제공함\n",
      "￮5G는 전송속도 향상, 다수기기 접속 및 지연시간 단축을 위해 ①밀리미터파 통신이 가능한 주파수 \n",
      "확장, ②스몰셀 (Small cell)을 도입한 기지국 , ③다중안테나 송수신 (Massive MIMO), ④네트워크 \n",
      "슬라이싱 (Network Slicing) 등의 기술을 도입함\n",
      "[5G 주요 요소기술 특징]\n",
      "자료: 삼정 KPMG25,000\n",
      "20,000\n",
      "15,000\n",
      "10,000\n",
      "5,000\n",
      "2017\n",
      "2018\n",
      "2019\n",
      "2020\n",
      "2021\n",
      "4G/5G \n",
      "(IoT,M2M)MassiveMIMO+\n",
      "4G5G\n",
      "4G\n",
      "4G\n",
      "5G\n",
      "2.6Ghz\n",
      "3.5Ghz\n",
      "28Ghz\n",
      "5G\n",
      "|（1k0|H）\n",
      "Massive\n",
      "（km）\n",
      "loT\n",
      "5G3.5Ghz28Ghz0\n",
      "MassiveMIMOELKorea\n",
      "Credit\n",
      "Information\n",
      "Services\n"
     ]
    }
   ],
   "source": [
    "#PyPDFLoader 불러오기\n",
    "from langchain_community.document_loaders import PyPDFLoader\n",
    "\n",
    "# PDF파일 불러올 객체 PyPDFLoader 선언(extract_images 매개변수로 OCR 수행)\n",
    "loader = PyPDFLoader(r\"C:\\Users\\gram\\Desktop\\Langchain\\DocumentLoader\\[이슈리포트 2022-2호] 혁신성장 정책금융 동향.pdf\", extract_images=True)\n",
    "\n",
    "# PDF파일 로드 및 페이지별로 자르기\n",
    "pages = loader.load_and_split() \n",
    "print(pages[5].page_content)"
   ]
  },
  {
   "cell_type": "markdown",
   "id": "ee45f1ad-3e43-4573-803c-a778ea6c4f3b",
   "metadata": {},
   "source": [
    "**[페이지 내 테이블 추출하기]**"
   ]
  },
  {
   "cell_type": "code",
   "execution_count": 6,
   "id": "5952aae1-ad13-403c-8a97-798b8977a166",
   "metadata": {},
   "outputs": [
    {
     "name": "stdout",
     "output_type": "stream",
     "text": [
      "page_content='| 4 | CIS이슈리포트 2022-2 호 [혁신성장 ICT 산업 정책금융 공급 현황]\\n                                                            (단위: 억 원, 괄호는 점유율 %)\\n구분 2017 년 말 2018 년 말 2019 년 말 2020 년 말 2021 년 말\\n혁신성장 ICT 산업45,075 72,799 81,805 139,687 169,089 \\n(18.7) (20.7) (18.5) (20.3) (19.8)\\n정보통신15,658 27,417 39,033 65,324 77,750 \\n(6.5) (7.8) (8.8) (9.5) (9.1)\\n전기전자26,637 38,521 35,922 62,856 77,485 \\n(11.1) (10.9) (8.1) (9.1) (9.1)\\n센서측정2,780 6,861 6,851 11,506 13,854 \\n(1.2) (1.9) (1.5) (1.7) (1.6)\\n혁신성장 정책금융 \\n총 공급액240,787 351,987 443,180 688,409 854,338 \\n3. 정보통신 테마 혁신성장 정책금융 현황 및 관련 산업 동향\\n▶(지원 현황) 정보통신 테마를 구성하는 기술분야별 정책금융 지원 현황 분석결과 , 공급점유율 관점\\n에서는 차세대무선통신미디어 분야에 가장 많은 정책자금이 투입 되고 있으며 , 공급량 증가율 관점\\n에서는  능동형컴퓨팅 분야로의 정책자금 지원 증가 속도가 가장 빠른 추세임\\n￮차세대무선통신미디어란 전송속도 향상, 소모전력 절감, 고속이동 중 끊김없는 통신 등 새로운 무선\\n환경에 필요한 통신, 인프라 및 서비스 기술을 통칭하며 , 4G/5G/6G, 사물인터넷 , 방송통신인프라 \\n등의 품목으로 구성됨\\n-정보통신 테마 내 혁신성장 정책금융 공급 규모의 약 50%를 점유하고 있으며 , 이는 초연결 미래\\n사회를 구축하기 위해 네트워크 기반 기술 사업화에 대한 정책자금 공급이 꾸준함에 따른 것으로 \\n분석됨\\n￮능동형컴퓨팅이란 거대하고 복잡해지는 데이터의 효율적 가공과 관리를 위한 인간두뇌와 유사한 \\n형태의 정보처리기술을 말하며 , 인공지능 , 상황인지컴퓨팅 등의 품목으로 구성됨\\n-컴퓨팅 기술을 활용한 다양한 사업화가 활발히 진행되고 있어 혁신성장 정책금융 공급 규모가 매년 \\n약 100% 수준으로 증가하고 있으며 , 새정부의 ‘미래 먹거리산업 신성장 전략추진*’에 따라 인공\\n지능 관련 기술로의 금융지원이 늘어날 것으로 전망됨\\n       * 에너지 , 방산, 우주항공 , 인공지능 (AI), 바이오 , 탄소중립 대응, 스마트농업을 차세대 6대 먹거리 산업으로 선정' metadata={'source': 'C:\\\\Users\\\\gram\\\\Desktop\\\\Langchain\\\\DocumentLoader\\\\[이슈리포트 2022-2호] 혁신성장 정책금융 동향.pdf', 'page': 3}\n"
     ]
    }
   ],
   "source": [
    "#PyPDFLoader 불러오기\n",
    "from langchain_community.document_loaders import PyPDFLoader\n",
    "\n",
    "# PDF파일 불러올 객체 PyPDFLoader 선언\n",
    "loader = PyPDFLoader(r\"C:\\Users\\gram\\Desktop\\Langchain\\DocumentLoader\\[이슈리포트 2022-2호] 혁신성장 정책금융 동향.pdf\")\n",
    "\n",
    "# PDF파일 로드 및 페이지별로 자르기\n",
    "pages = loader.load_and_split() \n",
    "print(pages[3])"
   ]
  },
  {
   "cell_type": "markdown",
   "id": "9a1810c5-ca25-48cf-9714-bbf59029d205",
   "metadata": {},
   "source": [
    "### **PyPDFium2**"
   ]
  },
  {
   "cell_type": "markdown",
   "id": "e381093d-0740-44db-9166-6f944803eaef",
   "metadata": {},
   "source": [
    "**[이미지+텍스트 페이지 내 텍스트 추출]**"
   ]
  },
  {
   "cell_type": "code",
   "execution_count": null,
   "id": "a57e532a-ca50-463d-b2f9-8bf5c4b91e4b",
   "metadata": {},
   "outputs": [],
   "source": [
    "#PyPDFium2 설치\n",
    "pip install pypdfium2"
   ]
  },
  {
   "cell_type": "code",
   "execution_count": 5,
   "id": "75a43510-2e68-4a64-bb7a-f49895429e11",
   "metadata": {},
   "outputs": [
    {
     "name": "stderr",
     "output_type": "stream",
     "text": [
      "C:\\Users\\gram\\anaconda3\\Lib\\site-packages\\pypdfium2\\_helpers\\textpage.py:81: UserWarning: get_text_range() call with default params will be implicitly redirected to get_text_bounded()\n",
      "  warnings.warn(\"get_text_range() call with default params will be implicitly redirected to get_text_bounded()\")\n"
     ]
    },
    {
     "name": "stdout",
     "output_type": "stream",
     "text": [
      "| 6 | CIS이슈리포트 2022-2호 \n",
      "▶ (주요품목① : 5G 이동통신) 정보통신 테마 내 기술분야 중 혁신성장 정책금융 공급규모가 가장 큰\n",
      "차세대무선통신미디어 분야의 경우 4G/5G 기술품목의 정책금융 공급 비중이 가장 높은 것으로 확인됨\n",
      "[차세대무선통신미디어 분야 내 기술품목별 혁신성장 정책금융 공급액 추이]\n",
      "(단위: 억 원)\n",
      "▶ 5G 이동통신 시스템은 ITU(International Telecommunication Union)가 정의한 5세대 이동통신\n",
      "규격을 만족시키는 무선 이동통신 네트워크 기술로, 2019년부터 국내 서비스를 시작함\n",
      "￮ 4G 이동통신 시스템(LTE)과 비교할 때 전송속도의 향상(1Gbps→20Gbps), 이동성 향상\n",
      "(350km/h→500km/h에서 끊김없는 데이터 전송 가능), 최대 연결가능 기기수 증가(10만 대 →\n",
      "100만 대 이상), 데이터 전송지연 감소(10ms→1ms) 등의 향상된 기능을 제공함\n",
      "￮ 5G는 전송속도 향상, 다수기기 접속 및 지연시간 단축을 위해 ①밀리미터파 통신이 가능한 주파수 \n",
      "확장, ②스몰셀(Small cell)을 도입한 기지국, ③다중안테나 송수신(Massive MIMO), ④네트워크 \n",
      "슬라이싱(Network Slicing) 등의 기술을 도입함\n",
      "[5G 주요 요소기술 특징]\n",
      "자료: 삼정 KPMG\n",
      "\n"
     ]
    }
   ],
   "source": [
    "#PyPDFium2 불러오기\n",
    "from langchain_community.document_loaders import PyPDFium2Loader\n",
    "\n",
    "# PDF파일 불러올 객체 PyPDFium2Loader 선언\n",
    "loader = PyPDFium2Loader(r\"C:\\Users\\gram\\Desktop\\Langchain\\DocumentLoader\\[이슈리포트 2022-2호] 혁신성장 정책금융 동향.pdf\")\n",
    "\n",
    "# PDF파일 로드 및 페이지별로 자르기(PyPDFium2는 load_and_split 함수 없이도 페이지별로 자름)\n",
    "data = loader.load()\n",
    "print(data[5].page_content)"
   ]
  },
  {
   "cell_type": "markdown",
   "id": "b35cfbc8-a246-42f5-8ff1-68101515ddff",
   "metadata": {},
   "source": [
    "**[페이지 내 테이블 추출하기]**"
   ]
  },
  {
   "cell_type": "code",
   "execution_count": 7,
   "id": "945a0cac-2b3d-4f60-8af8-9f733f54fc98",
   "metadata": {},
   "outputs": [
    {
     "name": "stdout",
     "output_type": "stream",
     "text": [
      "| 4 | CIS이슈리포트 2022-2호 \n",
      "[혁신성장 ICT 산업 정책금융 공급 현황]\n",
      " (단위: 억 원, 괄호는 점유율 %)\n",
      "구분 2017년 말 2018년 말 2019년 말 2020년 말 2021년 말\n",
      "혁신성장 ICT 산업\n",
      "45,075 72,799 81,805 139,687 169,089 \n",
      "(18.7) (20.7) (18.5) (20.3) (19.8)\n",
      "정보통신\n",
      "15,658 27,417 39,033 65,324 77,750 \n",
      "(6.5) (7.8) (8.8) (9.5) (9.1)\n",
      "전기전자\n",
      "26,637 38,521 35,922 62,856 77,485 \n",
      "(11.1) (10.9) (8.1) (9.1) (9.1)\n",
      "센서측정\n",
      "2,780 6,861 6,851 11,506 13,854 \n",
      "(1.2) (1.9) (1.5) (1.7) (1.6)\n",
      "혁신성장 정책금융 \n",
      "총 공급액 240,787 351,987 443,180 688,409 854,338 \n",
      "3. 정보통신 테마 혁신성장 정책금융 현황 및 관련 산업 동향\n",
      "▶ (지원 현황) 정보통신 테마를 구성하는 기술분야별 정책금융 지원 현황 분석결과, 공급점유율 관점\n",
      "에서는 차세대무선통신미디어 분야에 가장 많은 정책자금이 투입 되고 있으며, 공급량 증가율 관점\n",
      "에서는 능동형컴퓨팅 분야로의 정책자금 지원 증가 속도가 가장 빠른 추세임\n",
      "￮ 차세대무선통신미디어란 전송속도 향상, 소모전력 절감, 고속이동 중 끊김없는 통신 등 새로운 무선\n",
      "환경에 필요한 통신, 인프라 및 서비스 기술을 통칭하며, 4G/5G/6G, 사물인터넷, 방송통신인프라 \n",
      "등의 품목으로 구성됨\n",
      "- 정보통신 테마 내 혁신성장 정책금융 공급 규모의 약 50%를 점유하고 있으며, 이는 초연결 미래\n",
      "사회를 구축하기 위해 네트워크 기반 기술 사업화에 대한 정책자금 공급이 꾸준함에 따른 것으로 \n",
      "분석됨\n",
      "￮ 능동형컴퓨팅이란 거대하고 복잡해지는 데이터의 효율적 가공과 관리를 위한 인간두뇌와 유사한 \n",
      "형태의 정보처리기술을 말하며, 인공지능, 상황인지컴퓨팅 등의 품목으로 구성됨\n",
      "- 컴퓨팅 기술을 활용한 다양한 사업화가 활발히 진행되고 있어 혁신성장 정책금융 공급 규모가 매년\n",
      "약 100% 수준으로 증가하고 있으며, 새정부의 ‘미래 먹거리산업 신성장 전략추진*’에 따라 인공\n",
      "지능 관련 기술로의 금융지원이 늘어날 것으로 전망됨\n",
      " * 에너지, 방산, 우주항공, 인공지능(AI), 바이오, 탄소중립 대응, 스마트농업을 차세대 6대 먹거리 산업으로 선정\n",
      "\n"
     ]
    }
   ],
   "source": [
    "#PyPDFium2 불러오기\n",
    "from langchain_community.document_loaders import PyPDFium2Loader\n",
    "\n",
    "# PDF파일 불러올 객체 PyPDFium2Loader 선언\n",
    "loader = PyPDFium2Loader(r\"C:\\Users\\gram\\Desktop\\Langchain\\DocumentLoader\\[이슈리포트 2022-2호] 혁신성장 정책금융 동향.pdf\")\n",
    "\n",
    "# PDF파일 로드 및 페이지별로 자르기(PyPDFium2는 load_and_split 함수 없이도 페이지별로 자름)\n",
    "data = loader.load()\n",
    "print(data[3].page_content)"
   ]
  },
  {
   "cell_type": "markdown",
   "id": "ec348480-4b57-4830-997e-62794e8dc259",
   "metadata": {},
   "source": [
    "### **PyPDFLoader vs PyPDFium2Loader**"
   ]
  },
  {
   "cell_type": "markdown",
   "id": "2eab9ad4-e454-47ed-9642-f4a7a6c592cf",
   "metadata": {},
   "source": [
    "**[PyPDFLoader의 텍스트 추출 소요 시간]**"
   ]
  },
  {
   "cell_type": "code",
   "execution_count": 8,
   "id": "0c20b0fd-6f8d-48c4-bd0b-728f7a243cc4",
   "metadata": {},
   "outputs": [
    {
     "name": "stdout",
     "output_type": "stream",
     "text": [
      "CPU times: total: 4.53 s\n",
      "Wall time: 7.43 s\n"
     ]
    }
   ],
   "source": [
    "%%time\n",
    "from langchain_community.document_loaders import PyPDFLoader\n",
    "\n",
    "loader = PyPDFLoader(r\"C:\\Users\\gram\\Desktop\\Langchain\\DocumentLoader\\[이슈리포트 2022-2호] 혁신성장 정책금융 동향.pdf\")\n",
    "\n",
    "pages = loader.load_and_split()"
   ]
  },
  {
   "cell_type": "markdown",
   "id": "4a1aaacc-1bc8-434a-826e-5fd05273884c",
   "metadata": {},
   "source": [
    "**[PyPDFium2의 텍스트 추출 소요 시간]**"
   ]
  },
  {
   "cell_type": "code",
   "execution_count": 9,
   "id": "998e311c-95ce-4b98-814d-5e1ccc16c2a4",
   "metadata": {},
   "outputs": [
    {
     "name": "stdout",
     "output_type": "stream",
     "text": [
      "CPU times: total: 156 ms\n",
      "Wall time: 294 ms\n"
     ]
    }
   ],
   "source": [
    "%%time\n",
    "from langchain_community.document_loaders import PyPDFium2Loader\n",
    "\n",
    "loader = PyPDFium2Loader(r\"C:\\Users\\gram\\Desktop\\Langchain\\DocumentLoader\\[이슈리포트 2022-2호] 혁신성장 정책금융 동향.pdf\")\n",
    "\n",
    "pages = loader.load()"
   ]
  },
  {
   "cell_type": "markdown",
   "id": "89af6323-74aa-47f3-872e-1c289eea27a5",
   "metadata": {},
   "source": [
    "## **Office file Loaders**"
   ]
  },
  {
   "cell_type": "markdown",
   "id": "c95628d3-8b26-41c6-801f-dfd3e136039b",
   "metadata": {},
   "source": [
    "### **Word 파일 불러오기**"
   ]
  },
  {
   "cell_type": "code",
   "execution_count": null,
   "id": "83134dc0-d8c0-4d95-ae40-ebb895e28ef5",
   "metadata": {},
   "outputs": [],
   "source": [
    "#docx2txt 설치\n",
    "!pip install --upgrade --quiet  docx2txt"
   ]
  },
  {
   "cell_type": "code",
   "execution_count": 11,
   "id": "56b71559-6834-4a8f-9482-25e6cd98ead2",
   "metadata": {},
   "outputs": [
    {
     "name": "stdout",
     "output_type": "stream",
     "text": [
      "2011.09.01\t'갤럭시 노트' 공개\n",
      "\n",
      "\t2012.04.01\tLCD사업부 분사(삼성디스플레이㈜ 설립)\n",
      "\n",
      "\t2013.06.26\t'갤럭시 S4 LTE-A' LTE-A 스마트폰 출시\n",
      "\n",
      "\t2013.08.06\t'3D V-NAND' 3차원 수직구조 낸드플래시 메모리 양산\n",
      "\n",
      "\t2013.09.24\t'아이소셀(ISOCELL)' 차세대 CMOS 이미지센서 개발\n",
      "\n",
      "\t2017.03.05\t'QLED TV' 진화된 퀀텀닷 기술 적용 TV 출시\n",
      "\n",
      "\t2017.03.10\t전장 기업 Harman International Industries, Inc.사(100%) 지분 인수 2017.07.04\t세계 최대 규모 평택 반도체 라인 가동\n",
      "\n",
      "\t2017.11.01\t프린팅솔루션 사업 매각\n",
      "\n",
      "\t2018.08.30\t'QLED 8K TV' 퀀텀닷 기술과 8K 해상도 적용 TV 출시\n",
      "\n",
      "\t2018.11.07\t'폴더블 디스플레이' 삼성 개발자 컨퍼런스에서 공개\n",
      "\n",
      "\t2019.04.03\t'갤럭시 S10 5G' 5G 스마트폰 출시\n",
      "\n",
      "\t20\n"
     ]
    }
   ],
   "source": [
    "#Docx2txtLoader 불러오기\n",
    "from langchain_community.document_loaders import Docx2txtLoader\n",
    "\n",
    "#Docx2txtLoader로 워드 파일 불러오기(경로 설정)\n",
    "loader = Docx2txtLoader(r\"C:\\Users\\gram\\Desktop\\Langchain\\DocumentLoader\\[삼성전자] 사업보고서(일반법인) (2021.03.09).docx\")\n",
    "\n",
    "#페이지로 분할하여 불러오기\n",
    "data = loader.load_and_split() \n",
    "\n",
    "#첫번째 페이지 출력하기\n",
    "print(data[12].page_content[:500])"
   ]
  },
  {
   "cell_type": "code",
   "execution_count": 12,
   "id": "5636501a-efeb-424e-8ead-3e3c293122b8",
   "metadata": {},
   "outputs": [
    {
     "name": "stdout",
     "output_type": "stream",
     "text": [
      "{'source': 'C:\\\\Users\\\\gram\\\\Desktop\\\\Langchain\\\\DocumentLoader\\\\[삼성전자] 사업보고서(일반법인) (2021.03.09).docx'}\n"
     ]
    }
   ],
   "source": [
    "#로드한 워드파일의 메타데이터 확인\n",
    "print(data[12].metadata)"
   ]
  },
  {
   "cell_type": "markdown",
   "id": "ed90f716-8c8b-4376-8fe8-ba80108465f3",
   "metadata": {},
   "source": [
    "### **CSV 파일 불러오기**"
   ]
  },
  {
   "cell_type": "code",
   "execution_count": 13,
   "id": "b5c96578-6471-4827-ae03-22029c1a8e8e",
   "metadata": {},
   "outputs": [
    {
     "data": {
      "text/plain": [
       "Document(page_content='Team: Nationals\\n\"Payroll (millions)\": 81.34\\n\"Wins\": 98', metadata={'source': 'C:\\\\Users\\\\gram\\\\Desktop\\\\Langchain\\\\DocumentLoader\\\\mlb_teams_2012.csv', 'row': 0})"
      ]
     },
     "execution_count": 13,
     "metadata": {},
     "output_type": "execute_result"
    }
   ],
   "source": [
    "from langchain_community.document_loaders.csv_loader import CSVLoader\n",
    "\n",
    "loader = CSVLoader(file_path=r\"C:\\Users\\gram\\Desktop\\Langchain\\DocumentLoader\\mlb_teams_2012.csv\")\n",
    "\n",
    "data = loader.load()\n",
    "\n",
    "data[0]"
   ]
  },
  {
   "cell_type": "markdown",
   "id": "bade7094-2762-4525-82ac-6ee956e02b55",
   "metadata": {},
   "source": [
    "### **PPT 파일 불러오기**"
   ]
  },
  {
   "cell_type": "code",
   "execution_count": null,
   "id": "e13d42b3-cc99-46e0-9734-bf01d9fb78ad",
   "metadata": {},
   "outputs": [],
   "source": [
    "#pthon-pptx 패키지 설치\n",
    "!pip install python-pptx"
   ]
  },
  {
   "cell_type": "code",
   "execution_count": 14,
   "id": "5761c44e-5f1a-4385-88b8-3ca9e906f8ac",
   "metadata": {},
   "outputs": [
    {
     "data": {
      "text/plain": [
       "Document(page_content='Copilot scenarios for\\x0bMarketing', metadata={'source': 'C:\\\\Users\\\\gram\\\\Desktop\\\\Langchain\\\\DocumentLoader\\\\Copilot-scenarios-for-Marketing.pptx', 'category_depth': 0, 'file_directory': 'C:\\\\Users\\\\gram\\\\Desktop\\\\Langchain\\\\DocumentLoader', 'filename': 'Copilot-scenarios-for-Marketing.pptx', 'last_modified': '2024-03-18T21:38:20', 'page_number': 2, 'languages': ['eng'], 'filetype': 'application/vnd.openxmlformats-officedocument.presentationml.presentation', 'category': 'Title'})"
      ]
     },
     "execution_count": 14,
     "metadata": {},
     "output_type": "execute_result"
    }
   ],
   "source": [
    "#UnstructuredPowerPointLoader 불러오기\n",
    "from langchain_community.document_loaders import UnstructuredPowerPointLoader\n",
    "\n",
    "#mode=elements를 통해 pptx의 요소별로 Document 객체로 가져오기\n",
    "loader = UnstructuredPowerPointLoader(r\"C:\\Users\\gram\\Desktop\\Langchain\\DocumentLoader\\Copilot-scenarios-for-Marketing.pptx\", mode=\"elements\")\n",
    "\n",
    "#pptx 파일을 분할 로드하기\n",
    "data = loader.load_and_split()\n",
    "\n",
    "data[1]"
   ]
  },
  {
   "cell_type": "code",
   "execution_count": 15,
   "id": "5f0b1823-3809-4333-a7b2-d7fb3286f252",
   "metadata": {},
   "outputs": [
    {
     "name": "stdout",
     "output_type": "stream",
     "text": [
      "Title\n",
      "Copilot scenarios for\u000b",
      "Marketing\n",
      "\n",
      "\n",
      "Title\n",
      "Overview and KPIs\n",
      "\n",
      "\n",
      "Title\n",
      "Use Case by Role\n",
      "\n",
      "\n",
      "Title\n",
      "Day in the Life\n",
      "\n",
      "\n",
      "NarrativeText\n",
      "KPIs play a crucial role in organizations, providing a compass to navigate toward success. Let's dive into KPIs for Marketing and how Copilot can assist.\n",
      "\n",
      "\n",
      "NarrativeText\n",
      "Copilot can simplify the tasks that execs perform every day. Look at key use cases and how Copilot can be your AI assistant along the way.\n",
      "\n",
      "\n",
      "NarrativeText\n",
      "See how real-life marketers are using Copilot in their day to day.\n",
      "\n",
      "\n"
     ]
    }
   ],
   "source": [
    "for i in data:\n",
    "    if i.metadata['page_number'] == 2:\n",
    "        print(i.metadata['category'])\n",
    "        print(i.page_content)\n",
    "        print(\"\\n\")"
   ]
  },
  {
   "cell_type": "markdown",
   "id": "451f764c-e292-402b-8e66-57af6171f156",
   "metadata": {},
   "source": [
    "## **인터넷 정보 로드하기, WebBaseLoader**"
   ]
  },
  {
   "cell_type": "code",
   "execution_count": 16,
   "id": "f6ded34b-552f-4c28-a676-81b4982abdd6",
   "metadata": {},
   "outputs": [
    {
     "name": "stderr",
     "output_type": "stream",
     "text": [
      "C:\\Users\\gram\\anaconda3\\Lib\\site-packages\\urllib3\\connectionpool.py:1103: InsecureRequestWarning: Unverified HTTPS request is being made to host 'www.espn.com'. Adding certificate verification is strongly advised. See: https://urllib3.readthedocs.io/en/latest/advanced-usage.html#tls-warnings\n",
      "  warnings.warn(\n"
     ]
    },
    {
     "data": {
      "text/plain": [
       "[Document(page_content='\\n\\n\\n\\n\\n\\n\\n\\n\\nESPN - Serving Sports Fans. Anytime. Anywhere.\\n\\n\\n\\n\\n\\n\\n\\n\\n\\n\\n\\n\\n\\n\\n\\n\\n\\n\\n\\n\\n\\n\\n\\n\\n\\n\\n\\n\\n\\n\\n\\n\\n\\n\\n\\n\\n\\n\\n\\n\\n\\n\\n\\n\\n\\n\\n\\n\\n\\n\\n\\n\\n\\n\\n\\n\\n\\n\\n\\n\\n\\n\\n\\n\\n\\n\\n\\n\\n\\n\\n\\n\\n\\n\\n\\n\\n\\n\\n\\n\\n\\n\\n\\n\\n\\n\\n\\n\\n\\n\\n\\n\\n        Skip to main content\\n    \\n\\n        Skip to navigation\\n    \\n\\n\\n\\n\\n\\n\\n\\n\\n\\n\\n\\n\\n\\n\\n\\n\\n\\n\\n\\n\\n\\n\\n\\n\\n\\n\\n\\n\\n\\n\\n\\n\\n\\n<\\n\\n>\\n\\n\\n\\n\\n\\n\\n\\n\\n\\nMenuESPN\\n\\n\\n\\n\\n\\nscores\\n\\n\\n\\nNFLNBAMLBNHLSoccerGolf…NCAAFSports BettingBoxingCFLNCAACricketF1HorseLLWSMMANASCARNBA G LeagueNCAAMNCAAWOlympic SportsPLLProfessional WrestlingRacingRN BBRN FBRugbyTennisWNBAX GamesUFLMore ESPNFantasyWatchESPN BETESPN+\\n\\n\\n\\n\\n\\n\\n\\n\\n\\n\\n\\n\\n\\n\\n\\n  \\n\\nSubscribe Now\\n\\n\\n\\n\\n\\nPGA TOUR LIVE\\n\\n\\n\\n\\n\\n\\n\\nNCAA Softball: Super Regionals\\n\\n\\n\\n\\n\\n\\n\\nMLB\\n\\n\\n\\n\\n\\n\\n\\nNCAA Baseball\\n\\n\\n\\n\\n\\n\\n\\nUp For Debate\\n\\n\\n\\n\\n\\n\\n\\nUFC 302: Makhachev vs. Poirier (June 1, ESPN+ PPV)\\n\\n\\n\\n\\n\\n\\n\\nTwo-Round NBA Mock Draft\\n\\n\\nQuick Links\\n\\n\\n\\n\\nNFL Schedule\\n\\n\\n\\n\\n\\n\\n\\nNBA Postseason Tracker\\n\\n\\n\\n\\n\\n\\n\\nStanley Cup Playoffs\\n\\n\\n\\n\\n\\n\\n\\nNCAA Softball Tournament\\n\\n\\n\\n\\n\\n\\n\\nCollege Baseball Scoreboard\\n\\n\\n\\n\\n\\n\\n\\nWNBA Rookie Tracker\\n\\n\\n\\n\\n\\n\\n\\nESPN Radio: Listen Live\\n\\n\\n\\n\\n\\n\\n\\nWatch Golf on ESPN\\n\\n\\n\\n\\n\\n\\nFavorites\\n\\n\\n\\n\\n\\n\\n      Manage Favorites\\n      \\n\\n\\n\\nCustomize ESPNCreate AccountLog InFantasy\\n\\n\\n\\n\\nFootball\\n\\n\\n\\n\\n\\n\\n\\nBaseball\\n\\n\\n\\n\\n\\n\\n\\nBasketball\\n\\n\\n\\n\\n\\n\\n\\nHockey\\n\\n\\nESPN Sites\\n\\n\\n\\n\\nESPN Deportes\\n\\n\\n\\n\\n\\n\\n\\nAndscape\\n\\n\\n\\n\\n\\n\\n\\nespnW\\n\\n\\n\\n\\n\\n\\n\\nESPNFC\\n\\n\\n\\n\\n\\n\\n\\nX Games\\n\\n\\n\\n\\n\\n\\n\\nSEC Network\\n\\n\\nESPN Apps\\n\\n\\n\\n\\nESPN\\n\\n\\n\\n\\n\\n\\n\\nESPN Fantasy\\n\\n\\n\\n\\n\\n\\n\\nTournament Challenge\\n\\n\\nFollow ESPN\\n\\n\\n\\n\\nFacebook\\n\\n\\n\\n\\n\\n\\n\\nX/Twitter\\n\\n\\n\\n\\n\\n\\n\\nInstagram\\n\\n\\n\\n\\n\\n\\n\\nSnapchat\\n\\n\\n\\n\\n\\n\\n\\nTikTok\\n\\n\\n\\n\\n\\n\\n\\nYouTube\\n\\n\\nEast Finals - Game 2BOS leads series 2-0Biggest takeaways of Game 2 between Boston and IndianaOur NBA insiders break down their biggest takeaways from Game 2 of the Eastern Conference finals.7hNBA Insiders(Photo by Brian Babineau/NBAE via Getty Images)NBA playoff scheduleLowe: Derrick White, Josh Hart and the immense power of \"small\" tradesTOP HEADLINESBehind Brown\\'s 40, Celts flip G2 luck for 2-0 leadSources: Raiders redo contract to reward CrosbyNCAA, Power 5 agree to let schools pay playersHaliburton status up in air after injuring hamstringMcDavid bailed out after penalty, nets 2OT winnerUtd\\'s Onana on Ten Hag: \\'I\\'m not here to back him\\'Cop disciplined for not recording Scheffler arrestBronny garners bets to be top pick in NBA draftOffseason superlatives for NFC teamsWest Final - Game 1EDM leads series 1-0NCAA\\'S HISTORIC SETTLEMENTThamel: It\\'s a new day for college sports, but the future remains unclearA landmark settlement will provide billions in pay to college athletes. But because this is college sports, nothing will be easy.12hPete ThamelDaniel Shirey/USA TODAY SportsSVP calls the NCAA/Power 5 deal \\'long overdue\\'8h1:22STANLEY CUP PLAYOFFSCONFERENCE FINALSKaplan\\'s playoff buzz: What\\'s up with Wyatt Johnston, Matt Rempe and Sergei BobrovskyWith the conference finals underway, here\\'s what we\\'re hearing on the teams left, the Stanley Cup playoffs in general and what the offseason could bring.1dEmily KaplanCooper Neill/Getty ImagesConn Smythe Watch: Counting down top candidates for playoff MVPWe asked potential voters and media members for their top three players for postseason MVP. Here\\'s the top 10.1dGreg WyshynskiConn Smythe Trophy betting oddsPGA TOUR: CHARLES SCHWAB CHALLENGESTREAMING ON ESPN+SCHEFFLER UPDATEThe fallout continues from Scottie Scheffler\\'s Louisville arrest13h2:09New footage released in Scottie Scheffler\\'s arrest15h0:59UNHITTABLE ADDITIONSHit THIS! 12 nasty new pitches that are rocking MLB this seasonFrom devastating splitters to untouchable sweepers, here\\'s what pitchers have added to their 2024 arsenals.38mJeff PassanBenny Sieu-USA TODAY SportsHow Shota Imanaga went from under the radar to early Cy Young favoritePowered by an unhittable \\'optical illusion\\' pitch, the Cubs\\' new ace is taking MLB by storm.38mJesse RogersMLB SCOREBOARDTHURSDAY\\'S GAMESSee AllMLB standings2024 stat leadersTHE TEAMS MAKING NOISEReal or not? These unexpected teams are serious playoff contendersWe offer an early verdict on five of MLB\\'s most surprising teams almost two months into the 2024 season.1dDavid SchoenfieldJason Miller/Getty ImagesMLB Power Rankings: Who\\'s the new No. 1 team?As the battle in the NL continues between three powerhouses, one club makes its debut at the top spot.1dESPN Top HeadlinesBehind Brown\\'s 40, Celts flip G2 luck for 2-0 leadSources: Raiders redo contract to reward CrosbyNCAA, Power 5 agree to let schools pay playersHaliburton status up in air after injuring hamstringMcDavid bailed out after penalty, nets 2OT winnerUtd\\'s Onana on Ten Hag: \\'I\\'m not here to back him\\'Cop disciplined for not recording Scheffler arrestBronny garners bets to be top pick in NBA draftOffseason superlatives for NFC teamsFavorites FantasyManage FavoritesFantasy HomeCustomize ESPNCreate AccountLog InICYMI0:43Caitlin Clark fumbles inbounds pass in closing seconds as Fever lose againCaitlin Clark is smothered on a Fever inbounds play, leading to a jump ball late in the fourth against the Storm. Best of ESPN+ESPNUpdated 2024 top 50 MLB prospects: Skenes, Holliday, moreStarting with a player making headlines in the majors, let\\'s rank baseball\\'s next wave of future stars.Jesse Johnson/USA Today SportsRanking the top 12 NBA players through two rounds of playoffsYoung stars of the Wolves and Thunder both land in the top three of the playoffs\\' most valuable players (ranked by the numbers). Who else joins them?Cooper Neill/Getty ImagesBest NFL team fits for remaining free agents, trade candidatesWhere should Michael Thomas, Ryan Tannehill and Justin Simmons sign? Who should trade for Tee Higgins? Let\\'s find team fits for 15 players.Jamie Douglas/Icon Sportswire via Getty ImagesOffseason keys for NHL teams, including draft, free agencyWe explore the next moves each team should make this summer and forecast its 2024-25 outlook. Trending NowKevin Abele/Icon SportswireJaden Rashada-Florida NIL lawsuit: what to know, what comes nextThe former ESPN 300 QB sued Florida over a $13.85 million NIL deal. What\\'s next in this saga? Our reporters break it down.EPA/ADAM DAVIS SHUTTERSTOCK OUTHow an NBA title could impact Ant, Luka, Tatum and HaliburtonLuka Doncic, Anthony Edwards, Jayson Tatum or Tyrese Haliburton will win their first NBA title this year. What would a championship mean for the legacies of these young superstars?Nic Antaya/Getty ImagesHow Josh Hader set unprecedented rules to protect his healthThe inside story of the unprecedented usage rules Hader set before a team would commit to him long-term.Kasi OrrInside K.C. Chiefs\\' Derrick Nnadi\\'s quest to save shelter dogsSince the 2019-20 season, Nnadi has paid adoption fees for more than 500 dogs, and will do more this season. Sign up to play the #1 Fantasy game!Create A LeagueJoin Public LeagueReactivate A LeagueMock Draft NowSign up for FREE!Reactivate A LeagueCreate A LeagueJoin a Public LeaguePractice With a Mock DraftGet a custom ESPN experienceEnjoy the benefits of a personalized accountSelect your favorite leagues, teams and players and get the latest scores, news and updates that matter most to you. \\n\\nESPN+\\n\\n\\n\\n\\nPGA TOUR LIVE\\n\\n\\n\\n\\n\\n\\n\\nMLB\\n\\n\\n\\n\\n\\n\\n\\nUp For Debate\\n\\n\\n\\n\\n\\n\\n\\nUFC 302: Makhachev vs. Poirier (June 1, ESPN+ PPV)\\n\\n\\n\\n\\n\\n\\n\\nTwo-Round NBA Mock Draft\\n\\n\\nQuick Links\\n\\n\\n\\n\\nNFL Schedule\\n\\n\\n\\n\\n\\n\\n\\nNBA Postseason Tracker\\n\\n\\n\\n\\n\\n\\n\\nStanley Cup Playoffs\\n\\n\\n\\n\\n\\n\\n\\nNCAA Softball Tournament\\n\\n\\n\\n\\n\\n\\n\\nCollege Baseball Scoreboard\\n\\n\\n\\n\\n\\n\\n\\nWNBA Rookie Tracker\\n\\n\\n\\n\\n\\n\\n\\nESPN Radio: Listen Live\\n\\n\\n\\n\\n\\n\\n\\nWatch Golf on ESPN\\n\\n\\nFantasy\\n\\n\\n\\n\\nFootball\\n\\n\\n\\n\\n\\n\\n\\nBaseball\\n\\n\\n\\n\\n\\n\\n\\nBasketball\\n\\n\\n\\n\\n\\n\\n\\nHockey\\n\\n\\nESPN Sites\\n\\n\\n\\n\\nESPN Deportes\\n\\n\\n\\n\\n\\n\\n\\nAndscape\\n\\n\\n\\n\\n\\n\\n\\nespnW\\n\\n\\n\\n\\n\\n\\n\\nESPNFC\\n\\n\\n\\n\\n\\n\\n\\nX Games\\n\\n\\n\\n\\n\\n\\n\\nSEC Network\\n\\n\\nESPN Apps\\n\\n\\n\\n\\nESPN\\n\\n\\n\\n\\n\\n\\n\\nESPN Fantasy\\n\\n\\n\\n\\n\\n\\n\\nTournament Challenge\\n\\n\\nFollow ESPN\\n\\n\\n\\n\\nFacebook\\n\\n\\n\\n\\n\\n\\n\\nX/Twitter\\n\\n\\n\\n\\n\\n\\n\\nInstagram\\n\\n\\n\\n\\n\\n\\n\\nSnapchat\\n\\n\\n\\n\\n\\n\\n\\nTikTok\\n\\n\\n\\n\\n\\n\\n\\nYouTube\\n\\n\\nTerms of UsePrivacy PolicyInterest-Based AdsÂ© ESPN Enterprises, Inc. All rights reserved.\\n\\n\\n\\n\\n\\n\\n\\n\\n\\n\\n\\n\\n\\n\\n\\n\\n\\n', metadata={'source': 'https://www.espn.com/', 'title': 'ESPN - Serving Sports Fans. Anytime. Anywhere.', 'description': 'Visit ESPN for live scores, highlights and sports news. Stream exclusive games on ESPN+ and play fantasy sports.', 'language': 'en'})]"
      ]
     },
     "execution_count": 16,
     "metadata": {},
     "output_type": "execute_result"
    }
   ],
   "source": [
    "from langchain_community.document_loaders import WebBaseLoader\n",
    "#텍스트 추출할 URL 입력\n",
    "loader = WebBaseLoader(\"https://www.espn.com/\")\n",
    "#ssl verification 에러 방지를 위한 코드\n",
    "loader.requests_kwargs = {'verify':False}\n",
    "data = loader.load()\n",
    "data"
   ]
  },
  {
   "cell_type": "markdown",
   "id": "80e05b51-d685-4e3f-861e-b3d7caa2b544",
   "metadata": {},
   "source": [
    "**[Headline만 가져오기]**"
   ]
  },
  {
   "cell_type": "code",
   "execution_count": 18,
   "id": "bec6a4a8-d2de-4bd8-97e0-01a2cd2f0e13",
   "metadata": {},
   "outputs": [
    {
     "name": "stderr",
     "output_type": "stream",
     "text": [
      "C:\\Users\\gram\\anaconda3\\Lib\\site-packages\\urllib3\\connectionpool.py:1103: InsecureRequestWarning: Unverified HTTPS request is being made to host 'www.espn.com'. Adding certificate verification is strongly advised. See: https://urllib3.readthedocs.io/en/latest/advanced-usage.html#tls-warnings\n",
      "  warnings.warn(\n"
     ]
    },
    {
     "data": {
      "text/plain": [
       "[Document(page_content=\"Behind Brown's 40, Celts flip G2 luck for 2-0 leadSources: Raiders redo contract to reward CrosbyNCAA, Power 5 agree to let schools pay playersHaliburton status up in air after injuring hamstringMcDavid bailed out after penalty, nets 2OT winnerUtd's Onana on Ten Hag: 'I'm not here to back him'Cop disciplined for not recording Scheffler arrestBronny garners bets to be top pick in NBA draftOffseason superlatives for NFC teams Top HeadlinesBehind Brown's 40, Celts flip G2 luck for 2-0 leadSources: Raiders redo contract to reward CrosbyNCAA, Power 5 agree to let schools pay playersHaliburton status up in air after injuring hamstringMcDavid bailed out after penalty, nets 2OT winnerUtd's Onana on Ten Hag: 'I'm not here to back him'Cop disciplined for not recording Scheffler arrestBronny garners bets to be top pick in NBA draftOffseason superlatives for NFC teams\", metadata={'source': 'https://www.espn.com/'})]"
      ]
     },
     "execution_count": 18,
     "metadata": {},
     "output_type": "execute_result"
    }
   ],
   "source": [
    "import bs4\n",
    "from langchain_community.document_loaders import WebBaseLoader\n",
    "#텍스트 추출할 URL 입력\n",
    "loader = WebBaseLoader(\"https://www.espn.com/\",\n",
    "                        bs_kwargs=dict(\n",
    "                            parse_only=bs4.SoupStrainer(\n",
    "                                class_=(\"headlineStack top-headlines\")\n",
    "                                                        )\n",
    "                                        )\n",
    "                      )\n",
    "#ssl verification 에러 방지를 위한 코드\n",
    "loader.requests_kwargs = {'verify':False}\n",
    "data = loader.load()\n",
    "data"
   ]
  },
  {
   "cell_type": "code",
   "execution_count": 19,
   "id": "0c549ce3-8150-4854-9d51-0c38c6acd56c",
   "metadata": {},
   "outputs": [
    {
     "data": {
      "text/plain": [
       "[Document(page_content='\\n\\n\\n\\n\\n\\n\\n\\n\\nESPN - Serving Sports Fans. Anytime. Anywhere.\\n\\n\\n\\n\\n\\n\\n\\n\\n\\n\\n\\n\\n\\n\\n\\n\\n\\n\\n\\n\\n\\n\\n\\n\\n\\n\\n\\n\\n\\n\\n\\n\\n\\n\\n\\n\\n\\n\\n\\n\\n\\n\\n\\n\\n\\n\\n\\n\\n\\n\\n\\n\\n\\n\\n\\n\\n\\n\\n\\n\\n\\n\\n\\n\\n\\n\\n\\n\\n\\n\\n\\n\\n\\n\\n\\n\\n\\n\\n\\n\\n\\n\\n\\n\\n\\n\\n\\n\\n\\n\\n\\n\\n        Skip to main content\\n    \\n\\n        Skip to navigation\\n    \\n\\n\\n\\n\\n\\n\\n\\n\\n\\n\\n\\n\\n\\n\\n\\n\\n\\n\\n\\n\\n\\n\\n\\n\\n\\n\\n\\n\\n\\n\\n\\n\\n\\n<\\n\\n>\\n\\n\\n\\n\\n\\n\\n\\n\\n\\nMenuESPN\\n\\n\\n\\n\\n\\nscores\\n\\n\\n\\nNFLNBAMLBNHLSoccerGolf…NCAAFSports BettingBoxingCFLNCAACricketF1HorseLLWSMMANASCARNBA G LeagueNCAAMNCAAWOlympic SportsPLLProfessional WrestlingRacingRN BBRN FBRugbyTennisWNBAX GamesUFLMore ESPNFantasyWatchESPN BETESPN+\\n\\n\\n\\n\\n\\n\\n\\n\\n\\n\\n\\n\\n\\n\\n\\n  \\n\\nSubscribe Now\\n\\n\\n\\n\\n\\nPGA TOUR LIVE\\n\\n\\n\\n\\n\\n\\n\\nNCAA Softball: Super Regionals\\n\\n\\n\\n\\n\\n\\n\\nMLB\\n\\n\\n\\n\\n\\n\\n\\nNCAA Baseball\\n\\n\\n\\n\\n\\n\\n\\nUp For Debate\\n\\n\\n\\n\\n\\n\\n\\nUFC 302: Makhachev vs. Poirier (June 1, ESPN+ PPV)\\n\\n\\n\\n\\n\\n\\n\\nTwo-Round NBA Mock Draft\\n\\n\\nQuick Links\\n\\n\\n\\n\\nNFL Schedule\\n\\n\\n\\n\\n\\n\\n\\nNBA Postseason Tracker\\n\\n\\n\\n\\n\\n\\n\\nStanley Cup Playoffs\\n\\n\\n\\n\\n\\n\\n\\nNCAA Softball Tournament\\n\\n\\n\\n\\n\\n\\n\\nCollege Baseball Scoreboard\\n\\n\\n\\n\\n\\n\\n\\nWNBA Rookie Tracker\\n\\n\\n\\n\\n\\n\\n\\nESPN Radio: Listen Live\\n\\n\\n\\n\\n\\n\\n\\nWatch Golf on ESPN\\n\\n\\n\\n\\n\\n\\nFavorites\\n\\n\\n\\n\\n\\n\\n      Manage Favorites\\n      \\n\\n\\n\\nCustomize ESPNCreate AccountLog InFantasy\\n\\n\\n\\n\\nFootball\\n\\n\\n\\n\\n\\n\\n\\nBaseball\\n\\n\\n\\n\\n\\n\\n\\nBasketball\\n\\n\\n\\n\\n\\n\\n\\nHockey\\n\\n\\nESPN Sites\\n\\n\\n\\n\\nESPN Deportes\\n\\n\\n\\n\\n\\n\\n\\nAndscape\\n\\n\\n\\n\\n\\n\\n\\nespnW\\n\\n\\n\\n\\n\\n\\n\\nESPNFC\\n\\n\\n\\n\\n\\n\\n\\nX Games\\n\\n\\n\\n\\n\\n\\n\\nSEC Network\\n\\n\\nESPN Apps\\n\\n\\n\\n\\nESPN\\n\\n\\n\\n\\n\\n\\n\\nESPN Fantasy\\n\\n\\n\\n\\n\\n\\n\\nTournament Challenge\\n\\n\\nFollow ESPN\\n\\n\\n\\n\\nFacebook\\n\\n\\n\\n\\n\\n\\n\\nX/Twitter\\n\\n\\n\\n\\n\\n\\n\\nInstagram\\n\\n\\n\\n\\n\\n\\n\\nSnapchat\\n\\n\\n\\n\\n\\n\\n\\nTikTok\\n\\n\\n\\n\\n\\n\\n\\nYouTube\\n\\n\\nEast Finals - Game 2BOS leads series 2-0Biggest takeaways of Game 2 between Boston and IndianaOur NBA insiders break down their biggest takeaways from Game 2 of the Eastern Conference finals.7hNBA Insiders(Photo by Brian Babineau/NBAE via Getty Images)NBA playoff scheduleLowe: Derrick White, Josh Hart and the immense power of \"small\" tradesTOP HEADLINESBehind Brown\\'s 40, Celts flip G2 luck for 2-0 leadSources: Raiders redo contract to reward CrosbyNCAA, Power 5 agree to let schools pay playersHaliburton status up in air after injuring hamstringMcDavid bailed out after penalty, nets 2OT winnerUtd\\'s Onana on Ten Hag: \\'I\\'m not here to back him\\'Cop disciplined for not recording Scheffler arrestBronny garners bets to be top pick in NBA draftOffseason superlatives for NFC teamsWest Final - Game 1EDM leads series 1-0NCAA\\'S HISTORIC SETTLEMENTThamel: It\\'s a new day for college sports, but the future remains unclearA landmark settlement will provide billions in pay to college athletes. But because this is college sports, nothing will be easy.12hPete ThamelDaniel Shirey/USA TODAY SportsSVP calls the NCAA/Power 5 deal \\'long overdue\\'8h1:22STANLEY CUP PLAYOFFSCONFERENCE FINALSKaplan\\'s playoff buzz: What\\'s up with Wyatt Johnston, Matt Rempe and Sergei BobrovskyWith the conference finals underway, here\\'s what we\\'re hearing on the teams left, the Stanley Cup playoffs in general and what the offseason could bring.1dEmily KaplanCooper Neill/Getty ImagesConn Smythe Watch: Counting down top candidates for playoff MVPWe asked potential voters and media members for their top three players for postseason MVP. Here\\'s the top 10.1dGreg WyshynskiConn Smythe Trophy betting oddsPGA TOUR: CHARLES SCHWAB CHALLENGESTREAMING ON ESPN+SCHEFFLER UPDATEThe fallout continues from Scottie Scheffler\\'s Louisville arrest13h2:09New footage released in Scottie Scheffler\\'s arrest15h0:59UNHITTABLE ADDITIONSHit THIS! 12 nasty new pitches that are rocking MLB this seasonFrom devastating splitters to untouchable sweepers, here\\'s what pitchers have added to their 2024 arsenals.39mJeff PassanBenny Sieu-USA TODAY SportsHow Shota Imanaga went from under the radar to early Cy Young favoritePowered by an unhittable \\'optical illusion\\' pitch, the Cubs\\' new ace is taking MLB by storm.39mJesse RogersMLB SCOREBOARDTHURSDAY\\'S GAMESSee AllMLB standings2024 stat leadersTHE TEAMS MAKING NOISEReal or not? These unexpected teams are serious playoff contendersWe offer an early verdict on five of MLB\\'s most surprising teams almost two months into the 2024 season.1dDavid SchoenfieldJason Miller/Getty ImagesMLB Power Rankings: Who\\'s the new No. 1 team?As the battle in the NL continues between three powerhouses, one club makes its debut at the top spot.1dESPN Top HeadlinesBehind Brown\\'s 40, Celts flip G2 luck for 2-0 leadSources: Raiders redo contract to reward CrosbyNCAA, Power 5 agree to let schools pay playersHaliburton status up in air after injuring hamstringMcDavid bailed out after penalty, nets 2OT winnerUtd\\'s Onana on Ten Hag: \\'I\\'m not here to back him\\'Cop disciplined for not recording Scheffler arrestBronny garners bets to be top pick in NBA draftOffseason superlatives for NFC teamsFavorites FantasyManage FavoritesFantasy HomeCustomize ESPNCreate AccountLog InICYMI0:43Caitlin Clark fumbles inbounds pass in closing seconds as Fever lose againCaitlin Clark is smothered on a Fever inbounds play, leading to a jump ball late in the fourth against the Storm. Best of ESPN+ESPNUpdated 2024 top 50 MLB prospects: Skenes, Holliday, moreStarting with a player making headlines in the majors, let\\'s rank baseball\\'s next wave of future stars.Jesse Johnson/USA Today SportsRanking the top 12 NBA players through two rounds of playoffsYoung stars of the Wolves and Thunder both land in the top three of the playoffs\\' most valuable players (ranked by the numbers). Who else joins them?Cooper Neill/Getty ImagesBest NFL team fits for remaining free agents, trade candidatesWhere should Michael Thomas, Ryan Tannehill and Justin Simmons sign? Who should trade for Tee Higgins? Let\\'s find team fits for 15 players.Jamie Douglas/Icon Sportswire via Getty ImagesOffseason keys for NHL teams, including draft, free agencyWe explore the next moves each team should make this summer and forecast its 2024-25 outlook. Trending NowKevin Abele/Icon SportswireJaden Rashada-Florida NIL lawsuit: what to know, what comes nextThe former ESPN 300 QB sued Florida over a $13.85 million NIL deal. What\\'s next in this saga? Our reporters break it down.EPA/ADAM DAVIS SHUTTERSTOCK OUTHow an NBA title could impact Ant, Luka, Tatum and HaliburtonLuka Doncic, Anthony Edwards, Jayson Tatum or Tyrese Haliburton will win their first NBA title this year. What would a championship mean for the legacies of these young superstars?Nic Antaya/Getty ImagesHow Josh Hader set unprecedented rules to protect his healthThe inside story of the unprecedented usage rules Hader set before a team would commit to him long-term.Kasi OrrInside K.C. Chiefs\\' Derrick Nnadi\\'s quest to save shelter dogsSince the 2019-20 season, Nnadi has paid adoption fees for more than 500 dogs, and will do more this season. Sign up to play the #1 Fantasy game!Create A LeagueJoin Public LeagueReactivate A LeagueMock Draft NowSign up for FREE!Reactivate A LeagueCreate A LeagueJoin a Public LeaguePractice With a Mock DraftGet a custom ESPN experienceEnjoy the benefits of a personalized accountSelect your favorite leagues, teams and players and get the latest scores, news and updates that matter most to you. \\n\\nESPN+\\n\\n\\n\\n\\nPGA TOUR LIVE\\n\\n\\n\\n\\n\\n\\n\\nMLB\\n\\n\\n\\n\\n\\n\\n\\nUp For Debate\\n\\n\\n\\n\\n\\n\\n\\nUFC 302: Makhachev vs. Poirier (June 1, ESPN+ PPV)\\n\\n\\n\\n\\n\\n\\n\\nTwo-Round NBA Mock Draft\\n\\n\\nQuick Links\\n\\n\\n\\n\\nNFL Schedule\\n\\n\\n\\n\\n\\n\\n\\nNBA Postseason Tracker\\n\\n\\n\\n\\n\\n\\n\\nStanley Cup Playoffs\\n\\n\\n\\n\\n\\n\\n\\nNCAA Softball Tournament\\n\\n\\n\\n\\n\\n\\n\\nCollege Baseball Scoreboard\\n\\n\\n\\n\\n\\n\\n\\nWNBA Rookie Tracker\\n\\n\\n\\n\\n\\n\\n\\nESPN Radio: Listen Live\\n\\n\\n\\n\\n\\n\\n\\nWatch Golf on ESPN\\n\\n\\nFantasy\\n\\n\\n\\n\\nFootball\\n\\n\\n\\n\\n\\n\\n\\nBaseball\\n\\n\\n\\n\\n\\n\\n\\nBasketball\\n\\n\\n\\n\\n\\n\\n\\nHockey\\n\\n\\nESPN Sites\\n\\n\\n\\n\\nESPN Deportes\\n\\n\\n\\n\\n\\n\\n\\nAndscape\\n\\n\\n\\n\\n\\n\\n\\nespnW\\n\\n\\n\\n\\n\\n\\n\\nESPNFC\\n\\n\\n\\n\\n\\n\\n\\nX Games\\n\\n\\n\\n\\n\\n\\n\\nSEC Network\\n\\n\\nESPN Apps\\n\\n\\n\\n\\nESPN\\n\\n\\n\\n\\n\\n\\n\\nESPN Fantasy\\n\\n\\n\\n\\n\\n\\n\\nTournament Challenge\\n\\n\\nFollow ESPN\\n\\n\\n\\n\\nFacebook\\n\\n\\n\\n\\n\\n\\n\\nX/Twitter\\n\\n\\n\\n\\n\\n\\n\\nInstagram\\n\\n\\n\\n\\n\\n\\n\\nSnapchat\\n\\n\\n\\n\\n\\n\\n\\nTikTok\\n\\n\\n\\n\\n\\n\\n\\nYouTube\\n\\n\\nTerms of UsePrivacy PolicyInterest-Based AdsÂ© ESPN Enterprises, Inc. All rights reserved.\\n\\n\\n\\n\\n\\n\\n\\n\\n\\n\\n\\n\\n\\n\\n\\n\\n\\n', metadata={'source': 'https://www.espn.com/', 'title': 'ESPN - Serving Sports Fans. Anytime. Anywhere.', 'description': 'Visit ESPN for live scores, highlights and sports news. Stream exclusive games on ESPN+ and play fantasy sports.', 'language': 'en'}),\n",
       " Document(page_content='Google검색이미지지도PlayYouTube뉴스Gmail드라이브더보기캘린더번역도서쇼핑Blogger금융사진문서모두 보기Account Options로그인검색 환경설정웹 기록\\xa0고급검색Google 지원 언어:  English 광고비즈니스 솔루션Google 정보Google.co.kr© 2024 - 개인정보처리방침 - 약관   ', metadata={'source': 'https://google.com', 'title': 'Google', 'language': 'ko'})]"
      ]
     },
     "execution_count": 19,
     "metadata": {},
     "output_type": "execute_result"
    }
   ],
   "source": [
    "loader = WebBaseLoader([\"https://www.espn.com/\", \"https://google.com\"])\n",
    "docs = loader.load()\n",
    "docs"
   ]
  },
  {
   "cell_type": "markdown",
   "id": "965b31a1-d6e1-4080-a04c-fa0a0e285ea7",
   "metadata": {},
   "source": [
    "## **특정 경로 내의 모든 파일 불러오기, DirectoryLoader**"
   ]
  },
  {
   "cell_type": "code",
   "execution_count": 21,
   "id": "6dfdf74e-6e0a-4942-bf17-dbd42c63fb7b",
   "metadata": {},
   "outputs": [
    {
     "data": {
      "text/plain": [
       "['C:\\\\Users\\\\gram\\\\Desktop\\\\Langchain\\\\DocumentLoader\\\\BOK 이슈노트 제2022-38호 인공지능 언어모형을 이용한 인플레이션 어조지수 개발 및 시사점.pdf',\n",
       " 'C:\\\\Users\\\\gram\\\\Desktop\\\\Langchain\\\\DocumentLoader\\\\Transformer_paper.pdf',\n",
       " 'C:\\\\Users\\\\gram\\\\Desktop\\\\Langchain\\\\DocumentLoader\\\\[이슈리포트 2022-2호] 혁신성장 정책금융 동향.pdf']"
      ]
     },
     "execution_count": 21,
     "metadata": {},
     "output_type": "execute_result"
    }
   ],
   "source": [
    "from langchain_community.document_loaders import DirectoryLoader\n",
    "#첫번째 매개변수로 경로 입력, glob에 해당 경로에서 불러들일 파일의 형식 지정\n",
    "#*는 모든 문자를 표현하는 와일드카드로, .pdf로 끝나는 모든 파일을 의미함\n",
    "loader = DirectoryLoader(r'C:\\Users\\gram\\Desktop\\Langchain\\DocumentLoader', glob=\"*.pdf\")\n",
    "docs = loader.load()\n",
    "[i.metadata['source'] for i in docs]"
   ]
  },
  {
   "cell_type": "code",
   "execution_count": null,
   "id": "e2f542f8-b286-4915-ab6c-f8d99dcc31fb",
   "metadata": {},
   "outputs": [],
   "source": []
  }
 ],
 "metadata": {
  "kernelspec": {
   "display_name": "Python 3 (ipykernel)",
   "language": "python",
   "name": "python3"
  },
  "language_info": {
   "codemirror_mode": {
    "name": "ipython",
    "version": 3
   },
   "file_extension": ".py",
   "mimetype": "text/x-python",
   "name": "python",
   "nbconvert_exporter": "python",
   "pygments_lexer": "ipython3",
   "version": "3.11.7"
  }
 },
 "nbformat": 4,
 "nbformat_minor": 5
}
