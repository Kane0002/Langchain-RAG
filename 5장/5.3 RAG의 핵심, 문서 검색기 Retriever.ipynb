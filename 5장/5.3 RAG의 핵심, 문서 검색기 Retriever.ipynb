{
 "cells": [
  {
   "cell_type": "markdown",
   "id": "f5b4402e-7664-4f50-8286-9ba1807d6b77",
   "metadata": {},
   "source": [
    "## **RAG의 핵심, 문서 검색기 Retriever**"
   ]
  },
  {
   "cell_type": "markdown",
   "id": "1524da28-f2e3-43cb-9637-eb1500817c34",
   "metadata": {},
   "source": [
    "### **Retriever의 기본형, 벡터DB 기반 Retriever**"
   ]
  },
  {
   "cell_type": "markdown",
   "id": "c67ba141-5130-4d69-ac0d-e06c6879d0f1",
   "metadata": {},
   "source": [
    "**Chroma 벡터 DB 기반 기본 유사 문서 검색**"
   ]
  },
  {
   "cell_type": "code",
   "execution_count": 3,
   "id": "4cdf9cdf-f88d-49d5-9c6f-4b7c847c04a4",
   "metadata": {
    "scrolled": true
   },
   "outputs": [
    {
     "data": {
      "text/plain": [
       "[Document(page_content='③국회의원은 그 지위를 남용하여 국가ㆍ공공단체 또는 기업체와의 계약이나 그 처분에 의하여 재산상의 권리ㆍ이\\n익 또는 직위를 취득하거나 타인을 위하여 그 취득을 알선할 수 없다.\\n \\n제47조 ①국회의 정기회는 법률이 정하는 바에 의하여 매년 1회 집회되며, 국회의 임시회는 대통령 또는 국회재적의원\\n4분의 1 이상의 요구에 의하여 집회된다.\\n②정기회의 회기는 100일을, 임시회의 회기는 30일을 초과할 수 없다.\\n③대통령이 임시회의 집회를 요구할 때에는 기간과 집회요구의 이유를 명시하여야 한다.\\n \\n제48조 국회는 의장 1인과 부의장 2인을 선출한다.\\n \\n제49조 국회는 헌법 또는 법률에 특별한 규정이 없는 한 재적의원 과반수의 출석과 출석의원 과반수의 찬성으로 의결\\n한다. 가부동수인 때에는 부결된 것으로 본다.\\n \\n제50조 ①국회의 회의는 공개한다. 다만, 출석의원 과반수의 찬성이 있거나 의장이 국가의 안전보장을 위하여 필요하다\\n고 인정할 때에는 공개하지 아니할 수 있다.', metadata={'page': 4, 'source': 'C:\\\\Users\\\\gram\\\\Downloads\\\\대한민국헌법(헌법)(제00010호)(19880225).pdf'}),\n",
       " Document(page_content='법제처                                                            5                                                       국가법령정보센터\\n대한민국헌법 \\n③국회의원의 선거구와 비례대표제 기타 선거에 관한 사항은 법률로 정한다.\\n \\n제42조 국회의원의 임기는 4년으로 한다.\\n \\n제43조 국회의원은 법률이 정하는 직을 겸할 수 없다.\\n \\n제44조 ①국회의원은 현행범인인 경우를 제외하고는 회기 중 국회의 동의없이 체포 또는 구금되지 아니한다.\\n②국회의원이 회기 전에 체포 또는 구금된 때에는 현행범인이 아닌 한 국회의 요구가 있으면 회기 중 석방된다.\\n \\n제45조 국회의원은 국회에서 직무상 행한 발언과 표결에 관하여 국회 외에서 책임을 지지 아니한다.\\n \\n제46조 ①국회의원은 청렴의 의무가 있다.\\n②국회의원은 국가이익을 우선하여 양심에 따라 직무를 행한다.', metadata={'page': 4, 'source': 'C:\\\\Users\\\\gram\\\\Downloads\\\\대한민국헌법(헌법)(제00010호)(19880225).pdf'}),\n",
       " Document(page_content='②국회는 의원의 자격을 심사하며, 의원을 징계할 수 있다.\\n③의원을 제명하려면 국회재적의원 3분의 2 이상의 찬성이 있어야 한다.\\n④제2항과 제3항의 처분에 대하여는 법원에 제소할 수 없다.\\n \\n제65조 ①대통령ㆍ국무총리ㆍ국무위원ㆍ행정각부의 장ㆍ헌법재판소 재판관ㆍ법관ㆍ중앙선거관리위원회 위원ㆍ감사\\n원장ㆍ감사위원 기타 법률이 정한 공무원이 그 직무집행에 있어서 헌법이나 법률을 위배한 때에는 국회는 탄핵의\\n소추를 의결할 수 있다.\\n②제1항의 탄핵소추는 국회재적의원 3분의 1 이상의 발의가 있어야 하며, 그 의결은 국회재적의원 과반수의 찬성이\\n있어야 한다. 다만, 대통령에 대한 탄핵소추는 국회재적의원 과반수의 발의와 국회재적의원 3분의 2 이상의 찬성이', metadata={'page': 5, 'source': 'C:\\\\Users\\\\gram\\\\Downloads\\\\대한민국헌법(헌법)(제00010호)(19880225).pdf'}),\n",
       " Document(page_content='제61조 ①국회는 국정을 감사하거나 특정한 국정사안에 대하여 조사할 수 있으며, 이에 필요한 서류의 제출 또는 증인\\n의 출석과 증언이나 의견의 진술을 요구할 수 있다.\\n②국정감사 및 조사에 관한 절차 기타 필요한 사항은 법률로 정한다.\\n \\n제62조 ①국무총리ㆍ국무위원 또는 정부위원은 국회나 그 위원회에 출석하여 국정처리상황을 보고하거나 의견을 진술\\n하고 질문에 응답할 수 있다.\\n②국회나 그 위원회의 요구가 있을 때에는 국무총리ㆍ국무위원 또는 정부위원은 출석ㆍ답변하여야 하며, 국무총리\\n또는 국무위원이 출석요구를 받은 때에는 국무위원 또는 정부위원으로 하여금 출석ㆍ답변하게 할 수 있다.\\n \\n제63조 ①국회는 국무총리 또는 국무위원의 해임을 대통령에게 건의할 수 있다.\\n②제1항의 해임건의는 국회재적의원 3분의 1 이상의 발의에 의하여 국회재적의원 과반수의 찬성이 있어야 한다.\\n \\n제64조 ①국회는 법률에 저촉되지 아니하는 범위 안에서 의사와 내부규율에 관한 규칙을 제정할 수 있다.', metadata={'page': 5, 'source': 'C:\\\\Users\\\\gram\\\\Downloads\\\\대한민국헌법(헌법)(제00010호)(19880225).pdf'})]"
      ]
     },
     "execution_count": 3,
     "metadata": {},
     "output_type": "execute_result"
    }
   ],
   "source": [
    "from langchain.document_loaders import PyPDFLoader\n",
    "from langchain.text_splitter import RecursiveCharacterTextSplitter\n",
    "from langchain_openai import OpenAIEmbeddings\n",
    "from langchain_community.vectorstores import Chroma\n",
    "\n",
    "os.environ[\"OPENAI_API_KEY\"] = \"YOUR_API_KEY\"\n",
    "\n",
    "#헌법 PDF 파일 로드\n",
    "loader = PyPDFLoader(r\"C:\\Users\\gram\\Downloads\\대한민국헌법(헌법)(제00010호)(19880225).pdf\")\n",
    "pages = loader.load_and_split()\n",
    "\n",
    "#PDF 파일을 500자 청크로 분할\n",
    "text_splitter = RecursiveCharacterTextSplitter(chunk_size=500, chunk_overlap=0)\n",
    "docs = text_splitter.split_documents(pages)\n",
    "\n",
    "#ChromaDB에 청크들을 벡터 임베딩으로 저장(OpenAI 임베딩 모델 활용)\n",
    "db = Chroma.from_documents(docs, OpenAIEmbeddings(model = 'text-embedding-3-small'))\n",
    "\n",
    "#Chroma를 Retriever로 활용\n",
    "retriever = db.as_retriever()\n",
    "retriever.invoke(\"국회의원의 의무\")"
   ]
  },
  {
   "cell_type": "markdown",
   "id": "254d0774-053e-4be5-af3f-961100df2e5c",
   "metadata": {},
   "source": [
    "**(1) 유사도 점수도 함께 출력하기**"
   ]
  },
  {
   "cell_type": "code",
   "execution_count": 4,
   "id": "1b073504-7fa7-45b1-82f7-9c1c2fc5a043",
   "metadata": {
    "scrolled": true
   },
   "outputs": [
    {
     "name": "stdout",
     "output_type": "stream",
     "text": [
      "[유사 청크 1순위]\n",
      "③국회의원은 그 지위를 남용하여 국가ㆍ공공단체 또는 기업체와의 계약이나 그 처분에 의하여 재산상의 권리ㆍ이\n",
      "익 또는 직위를 취득하거나 타인을 위하여 그 취득을 알선할 수 없다.\n",
      " \n",
      "제47조 ①국회의 정기회는 법률이 정하는 바에 의하여 매년 1회 집회되며, 국회의 임시회는 대통령 또는 국회재적의원\n",
      "4분의 1 이상의 요구에 의하여 집회된다.\n",
      "②정기회의 회기는 100일을, 임시회의 회기는 30일을 초과할 수 없다.\n",
      "③대통령이 임시회의 집회를 요구할 때에는 기간과 집회요구의 이유를 명시하여야 한다.\n",
      " \n",
      "제48조 국회는 의장 1인과 부의장 2인을 선출한다.\n",
      " \n",
      "제49조 국회는 헌법 또는 법률에 특별한 규정이 없는 한 재적의원 과반수의 출석과 출석의원 과반수의 찬성으로 의결\n",
      "한다. 가부동수인 때에는 부결된 것으로 본다.\n",
      " \n",
      "제50조 ①국회의 회의는 공개한다. 다만, 출석의원 과반수의 찬성이 있거나 의장이 국가의 안전보장을 위하여 필요하다\n",
      "고 인정할 때에는 공개하지 아니할 수 있다.\n",
      "\n",
      "\n",
      "[점수]\n",
      "0.8005110025405884\n",
      "0.4339532416891084\n"
     ]
    }
   ],
   "source": [
    "result_score = db.similarity_search_with_score(\"국회의원의 의무\")\n",
    "result_r_score = db.similarity_search_with_relevance_scores(\"국회의원의 의무\")\n",
    "\n",
    "print(\"[유사 청크 1순위]\")\n",
    "print(result_score[0][0].page_content)\n",
    "\n",
    "print(\"\\n\\n[점수]\")\n",
    "print(result_score[0][1])\n",
    "print(result_r_score[0][1])"
   ]
  },
  {
   "cell_type": "markdown",
   "id": "ff67e922-2072-4595-ac4f-63eb5d8375af",
   "metadata": {},
   "source": [
    "**(2) 검색 결과 수 및 조정**"
   ]
  },
  {
   "cell_type": "code",
   "execution_count": 5,
   "id": "0d63f235-6502-4a8d-99df-27fc8a06fdf2",
   "metadata": {},
   "outputs": [
    {
     "name": "stderr",
     "output_type": "stream",
     "text": [
      "C:\\Users\\gram\\anaconda3\\Lib\\site-packages\\langchain_core\\_api\\deprecation.py:119: LangChainDeprecationWarning: The method `BaseRetriever.get_relevant_documents` was deprecated in langchain-core 0.1.46 and will be removed in 0.3.0. Use invoke instead.\n",
      "  warn_deprecated(\n"
     ]
    },
    {
     "data": {
      "text/plain": [
       "[Document(page_content='③국회의원은 그 지위를 남용하여 국가ㆍ공공단체 또는 기업체와의 계약이나 그 처분에 의하여 재산상의 권리ㆍ이\\n익 또는 직위를 취득하거나 타인을 위하여 그 취득을 알선할 수 없다.\\n \\n제47조 ①국회의 정기회는 법률이 정하는 바에 의하여 매년 1회 집회되며, 국회의 임시회는 대통령 또는 국회재적의원\\n4분의 1 이상의 요구에 의하여 집회된다.\\n②정기회의 회기는 100일을, 임시회의 회기는 30일을 초과할 수 없다.\\n③대통령이 임시회의 집회를 요구할 때에는 기간과 집회요구의 이유를 명시하여야 한다.\\n \\n제48조 국회는 의장 1인과 부의장 2인을 선출한다.\\n \\n제49조 국회는 헌법 또는 법률에 특별한 규정이 없는 한 재적의원 과반수의 출석과 출석의원 과반수의 찬성으로 의결\\n한다. 가부동수인 때에는 부결된 것으로 본다.\\n \\n제50조 ①국회의 회의는 공개한다. 다만, 출석의원 과반수의 찬성이 있거나 의장이 국가의 안전보장을 위하여 필요하다\\n고 인정할 때에는 공개하지 아니할 수 있다.', metadata={'page': 4, 'source': 'C:\\\\Users\\\\gram\\\\Downloads\\\\대한민국헌법(헌법)(제00010호)(19880225).pdf'})]"
      ]
     },
     "execution_count": 5,
     "metadata": {},
     "output_type": "execute_result"
    }
   ],
   "source": [
    "#유사 청크 1개만 반환\n",
    "retriever = db.as_retriever(search_kwargs={\"k\": 1})\n",
    "retriever.get_relevant_documents(\"국회의원의 의무\")"
   ]
  },
  {
   "cell_type": "markdown",
   "id": "e9e0e349-cdb4-415d-8cfe-ffed753a50dd",
   "metadata": {},
   "source": [
    "**(3) 검색 방식 변경 - MMR**"
   ]
  },
  {
   "cell_type": "code",
   "execution_count": 4,
   "id": "d3cd593f-2445-4a39-be66-596413ebcab8",
   "metadata": {},
   "outputs": [],
   "source": [
    "from langchain.document_loaders import PyPDFLoader\n",
    "from langchain.text_splitter import RecursiveCharacterTextSplitter\n",
    "from langchain_openai import OpenAIEmbeddings\n",
    "from langchain_community.vectorstores import Chroma\n",
    "#헌법 PDF 파일 로드\n",
    "loader = PyPDFLoader(r\"C:\\Users\\gram\\Downloads\\대한민국헌법(헌법)(제00010호)(19880225).pdf\")\n",
    "pages = loader.load_and_split()\n",
    "\n",
    "#PDF 파일을 500자 청크로 분할\n",
    "text_splitter = RecursiveCharacterTextSplitter(chunk_size=500, chunk_overlap=0)\n",
    "docs = text_splitter.split_documents(pages)\n",
    "\n",
    "#ChromaDB에 청크들을 벡터 임베딩으로 저장(OpenAI 임베딩 모델 활용)\n",
    "db = Chroma.from_documents(docs, OpenAIEmbeddings(model = 'text-embedding-3-small'))"
   ]
  },
  {
   "cell_type": "code",
   "execution_count": null,
   "id": "1e98b705-bc74-4251-b643-1f7abe12f959",
   "metadata": {},
   "outputs": [],
   "source": [
    "#Chroma를 Retriever로 활용\n",
    "retriever = db.as_retriever(\n",
    "    search_type=\"mmr\",\n",
    "    search_kwargs = {\"lambda_mult\": 0, \"fetch_k\":10, \"k\":3}\n",
    ")\n",
    "retriever.invoke(\"국회의원의 의무\")"
   ]
  },
  {
   "cell_type": "markdown",
   "id": "c6c5d7d1-df93-4473-9eb6-2d8efd8300ca",
   "metadata": {},
   "source": [
    "**일반 유사도 검색 방식**"
   ]
  },
  {
   "cell_type": "code",
   "execution_count": null,
   "id": "28c99b8b-ab6b-4b90-abce-ef9757c33edc",
   "metadata": {},
   "outputs": [],
   "source": [
    "#Chroma를 Retriever로 활용\n",
    "retriever = db.as_retriever(search_kwargs = {\"k\":3})\n",
    "retriever.get_relevant_documents(\"국회의원의 의무\")\n"
   ]
  },
  {
   "cell_type": "markdown",
   "id": "f39d3627-574a-4b40-9153-3e5607b22d28",
   "metadata": {},
   "source": [
    "### **사용자의 쿼리를 재해석하여 검색하다, MultiQueryRetriever**"
   ]
  },
  {
   "cell_type": "markdown",
   "id": "b827c04e-5c8d-4fb6-8765-f260147e32a7",
   "metadata": {},
   "source": [
    "**Chroma DB에 문서 벡터 저장**"
   ]
  },
  {
   "cell_type": "code",
   "execution_count": 4,
   "id": "c94f53e7-088b-4927-ab60-30055b1659c3",
   "metadata": {},
   "outputs": [],
   "source": [
    "from langchain.document_loaders import PyPDFLoader\n",
    "from langchain.text_splitter import RecursiveCharacterTextSplitter\n",
    "from langchain_openai import OpenAIEmbeddings\n",
    "from langchain_community.vectorstores import Chroma\n",
    "#헌법 PDF 파일 로드\n",
    "loader = PyPDFLoader(r\"C:\\Users\\gram\\Downloads\\대한민국헌법(헌법)(제00010호)(19880225).pdf\")\n",
    "pages = loader.load_and_split()\n",
    "\n",
    "#PDF 파일을 500자 청크로 분할\n",
    "text_splitter = RecursiveCharacterTextSplitter(chunk_size=500, chunk_overlap=0)\n",
    "docs = text_splitter.split_documents(pages)\n",
    "\n",
    "#ChromaDB에 청크들을 벡터 임베딩으로 저장(OpenAI 임베딩 모델 활용)\n",
    "db = Chroma.from_documents(docs, OpenAIEmbeddings(model = 'text-embedding-3-small'))"
   ]
  },
  {
   "cell_type": "markdown",
   "id": "32afbeb6-fe95-4056-82a1-4575bbcb80d5",
   "metadata": {},
   "source": [
    "**질문을 여러 버전으로 재해석하여 Retriever에 활용**"
   ]
  },
  {
   "cell_type": "code",
   "execution_count": 7,
   "id": "d07f336e-18b5-474f-891c-036f8d944a9c",
   "metadata": {},
   "outputs": [
    {
     "name": "stderr",
     "output_type": "stream",
     "text": [
      "INFO:langchain.retrievers.multi_query:Generated queries: ['1. 국회의원이 가져야 하는 책임은 무엇인가요?', '2. 국회의원은 어떤 의무를 부담하고 있나요?', '3. 국회의원이 수행해야 하는 역할에는 어떤 것들이 있나요?']\n"
     ]
    },
    {
     "data": {
      "text/plain": [
       "4"
      ]
     },
     "execution_count": 7,
     "metadata": {},
     "output_type": "execute_result"
    }
   ],
   "source": [
    "#```Chroma DB에 대한민국 헌법 PDF 임베딩 변환 및 저장하는 과정은 위 셀에 있습니다```\n",
    "from langchain.retrievers.multi_query import MultiQueryRetriever\n",
    "from langchain_openai import ChatOpenAI\n",
    "\n",
    "#질문 문장 question으로 저장\n",
    "question = \"국회의원의 의무는 무엇이 있나요?\"\n",
    "#여러 버전의 질문으로 변환하는 역할을 맡을 LLM 선언\n",
    "llm = ChatOpenAI(model_name=\"gpt-3.5-turbo-0125\",\n",
    "                 temperature = 0)\n",
    "#MultiQueryRetriever에 벡터DB 기반 Retriever와 LLM 선언\n",
    "retriever_from_llm = MultiQueryRetriever.from_llm(\n",
    "    retriever=db.as_retriever(), llm=llm\n",
    ")\n",
    "\n",
    "# 여러 버전의 문장 생성 결과를 확인하기 위한 로깅 과정\n",
    "import logging\n",
    "logging.basicConfig()\n",
    "logging.getLogger(\"langchain.retrievers.multi_query\").setLevel(logging.INFO)\n",
    "\n",
    "#여러 버전 질문 생성 결과와 유사 청크 검색 개수 출력\n",
    "unique_docs = retriever_from_llm.invoke(input=question)\n",
    "len(unique_docs)"
   ]
  },
  {
   "cell_type": "markdown",
   "id": "098f4e88-9264-4e41-a7aa-715957c33950",
   "metadata": {},
   "source": [
    "### **문서를 여러 벡터로 재해석하다, MultiVectorRetriever**"
   ]
  },
  {
   "cell_type": "markdown",
   "id": "a0cd16eb-fae7-42df-9d30-70f3ef0bc8c9",
   "metadata": {},
   "source": [
    "**Chroma DB에 문서 벡터 저장**"
   ]
  },
  {
   "cell_type": "code",
   "execution_count": 8,
   "id": "e650226e-1b22-4259-b2a1-d8ce2f1103ab",
   "metadata": {},
   "outputs": [],
   "source": [
    "from langchain.retrievers.multi_vector import MultiVectorRetriever\n",
    "from langchain.storage import InMemoryByteStore\n",
    "from langchain_community.vectorstores import Chroma\n",
    "from langchain_text_splitters import RecursiveCharacterTextSplitter\n",
    "from langchain.document_loaders import PyPDFLoader\n",
    "\n",
    "loaders = PyPDFLoader(r\"C:\\Users\\gram\\Downloads\\대한민국헌법(헌법)(제00010호)(19880225).pdf\"),\n",
    "docs = loader.load()\n",
    "text_splitter = RecursiveCharacterTextSplitter(chunk_size=2000)\n",
    "docs = text_splitter.split_documents(docs)"
   ]
  },
  {
   "cell_type": "markdown",
   "id": "fbbd162e-d7de-4eab-94f6-c164c5fc8360",
   "metadata": {},
   "source": [
    "**Multi Vector를 만들기 위한 작업**"
   ]
  },
  {
   "cell_type": "code",
   "execution_count": 9,
   "id": "7d446a6f-e53f-40fb-b886-0251cd495935",
   "metadata": {},
   "outputs": [],
   "source": [
    "from langchain_community.embeddings import HuggingFaceEmbeddings\n",
    "\n",
    "model_name = \"jhgan/ko-sbert-nli\"\n",
    "model_kwargs = {'device': 'cpu'}\n",
    "encode_kwargs = {'normalize_embeddings': True}\n",
    "embedding = HuggingFaceEmbeddings(\n",
    "    model_name=model_name,\n",
    "    model_kwargs=model_kwargs,\n",
    "    encode_kwargs=encode_kwargs\n",
    ")\n",
    "\n",
    "vectorstore = Chroma(\n",
    "    collection_name=\"full_documents\", embedding_function=embedding\n",
    ")\n",
    "# 상위 문서 저장 위한 레이어 선언\n",
    "store = InMemoryByteStore()\n",
    "id_key = \"doc_id\"\n",
    "# 상위 문서와 하위 문서를 연결할 키값으로 doc_id 사용\n",
    "retriever = MultiVectorRetriever(\n",
    "    vectorstore=vectorstore,\n",
    "    byte_store=store,\n",
    "    id_key=id_key,\n",
    ")\n",
    "\n",
    "#문서 id로 고유한 값을 지정하기 위해 uuid 라이브러리 호출\n",
    "import uuid\n",
    "doc_ids = [str(uuid.uuid4()) for _ in docs]"
   ]
  },
  {
   "cell_type": "code",
   "execution_count": 10,
   "id": "26158345-63c4-4e8b-b4e9-1388bf3394c4",
   "metadata": {},
   "outputs": [],
   "source": [
    "# 하위 청크로 쪼개기 위한 child_text_splitter 지정\n",
    "child_text_splitter = RecursiveCharacterTextSplitter(chunk_size=400)\n",
    "# 상위 청크들을 순회하며 하위 청크로 분할한 후 상위 청크 id 상속\n",
    "sub_docs = []\n",
    "for i, doc in enumerate(docs):\n",
    "    _id = doc_ids[i]\n",
    "    _sub_docs = child_text_splitter.split_documents([doc])\n",
    "    for _doc in _sub_docs:\n",
    "        _doc.metadata[id_key] = _id\n",
    "    sub_docs.extend(_sub_docs)\n",
    "#vectorstore에 하위 청크 추가\n",
    "retriever.vectorstore.add_documents(sub_docs)\n",
    "#docstore에 상위청크 저장할 때, doc_ids 지정\n",
    "retriever.docstore.mset(list(zip(doc_ids, docs)))"
   ]
  },
  {
   "cell_type": "code",
   "execution_count": 11,
   "id": "2ce2da81-9344-4712-b77c-0314d1c5b1df",
   "metadata": {},
   "outputs": [
    {
     "name": "stdout",
     "output_type": "stream",
     "text": [
      "[하위 청크] \n",
      "\n",
      "③공공필요에 의한 재산권의 수용ㆍ사용 또는 제한 및 그에 대한 보상은 법률로써 하되, 정당한 보상을 지급하여야\n",
      "한다.\n",
      " \n",
      "제24조 모든 국민은 법률이 정하는 바에 의하여 선거권을 가진다.\n",
      " \n",
      "제25조 모든 국민은 법률이 정하는 바에 의하여 공무담임권을 가진다.\n",
      " \n",
      "제26조 ①모든 국민은 법률이 정하는 바에 의하여 국가기관에 문서로 청원할 권리를 가진다.\n",
      "②국가는 청원에 대하여 심사할 의무를 진다.\n",
      " \n",
      "제27조 ①모든 국민은 헌법과 법률이 정한 법관에 의하여 법률에 의한 재판을 받을 권리를 가진다.\n",
      "②군인 또는 군무원이 아닌 국민은 대한민국의 영역 안에서는 중대한 군사상 기밀ㆍ초병ㆍ초소ㆍ유독음식물공급\n",
      "ㆍ포로ㆍ군용물에 관한 죄중 법률이 정한 경우와 비상계엄이 선포된 경우를 제외하고는 군사법원의 재판을 받지\n",
      "--------------------------------------------------\n",
      "[상위 청크] \n",
      "\n",
      "법제처                                                            4                                                       국가법령정보센터\n",
      "대한민국헌법 \n",
      "제32조 ①모든 국민은 근로의 권리를 가진다. 국가는 사회적ㆍ경제적 방법으로 근로자의 고용의 증진과 적정임금의 보\n",
      "장에 노력하여야 하며, 법률이 정하는 바에 의하여 최저임금제를 시행하여야 한다.\n",
      "②모든 국민은 근로의 의무를 진다. 국가는 근로의 의무의 내용과 조건을 민주주의원칙에 따라 법률로 정한다.\n",
      "③근로조건의 기준은 인간의 존엄성을 보장하도록 법률로 정한다.\n",
      "④여자의 근로는 특별한 보호를 받으며, 고용ㆍ임금 및 근로조건에 있어서 부당한 차별을 받지 아니한다.\n",
      "⑤연소자의 근로는 특별한 보호를 받는다.\n",
      "⑥국가유공자ㆍ상이군경 및 전몰군경의 유가족은 법률이 정하는 바에 의하여 우선적으로 근로의 기회를 부여받는\n",
      "다.\n",
      " \n",
      "제33조 ①근로자는 근로조건의 향상을 위하여 자주적인 단결권ㆍ단체교섭권 및 단체행동권을 가진다.\n",
      "②공무원인 근로자는 법률이 정하는 자에 한하여 단결권ㆍ단체교섭권 및 단체행동권을 가진다.\n",
      "③법률이 정하는 주요방위산업체에 종사하는 근로자의 단체행동권은 법률이 정하는 바에 의하여 이를 제한하거나\n",
      "인정하지 아니할 수 있다.\n",
      " \n",
      "제34조 ①모든 국민은 인간다운 생활을 할 권리를 가진다.\n",
      "②국가는 사회보장ㆍ사회복지의 증진에 노력할 의무를 진다.\n",
      "③국가는 여자의 복지와 권익의 향상을 위하여 노력하여야 한다.\n",
      "④국가는 노인과 청소년의 복지향상을 위한 정책을 실시할 의무를 진다.\n",
      "⑤신체장애자 및 질병ㆍ노령 기타의 사유로 생활능력이 없는 국민은 법률이 정하는 바에 의하여 국가의 보호를 받\n",
      "는다.\n",
      "⑥국가는 재해를 예방하고 그 위험으로부터 국민을 보호하기 위하여 노력하여야 한다.\n",
      " \n",
      "제35조 ①모든 국민은 건강하고 쾌적한 환경에서 생활할 권리를 가지며, 국가와 국민은 환경보전을 위하여 노력하여야\n",
      "한다.\n",
      "②환경권의 내용과 행사에 관하여는 법률로 정한다.\n",
      "③국가는 주택개발정책등을 통하여 모든 국민이 쾌적한 주거생활을 할 수 있도록 노력하여야 한다.\n",
      " \n",
      "제36조 ①혼인과 가족생활은 개인의 존엄과 양성의 평등을 기초로 성립되고 유지되어야 하며, 국가는 이를 보장한다.\n",
      "②국가는 모성의 보호를 위하여 노력하여야 한다.\n",
      "③모든 국민은 보건에 관하여 국가의 보호를 받는다.\n",
      " \n",
      "제37조 ①국민의 자유와 권리는 헌법에 열거되지 아니한 이유로 경시되지 아니한다.\n",
      "②국민의 모든 자유와 권리는 국가안전보장ㆍ질서유지 또는 공공복리를 위하여 필요한 경우에 한하여 법률로써 제\n",
      "한할 수 있으며, 제한하는 경우에도 자유와 권리의 본질적인 내용을 침해할 수 없다.\n",
      " \n",
      "제38조 모든 국민은 법률이 정하는 바에 의하여 납세의 의무를 진다.\n",
      " \n",
      "제39조 ①모든 국민은 법률이 정하는 바에 의하여 국방의 의무를 진다.\n",
      "②누구든지 병역의무의 이행으로 인하여 불이익한 처우를 받지 아니한다.\n",
      " \n",
      "       제3장 국회\n",
      " \n",
      "제40조 입법권은 국회에 속한다.\n",
      " \n",
      "제41조 ①국회는 국민의 보통ㆍ평등ㆍ직접ㆍ비밀선거에 의하여 선출된 국회의원으로 구성한다.\n",
      "②국회의원의 수는 법률로 정하되, 200인 이상으로 한다.\n"
     ]
    }
   ],
   "source": [
    "# Vectorstore alone retrieves the small chunks\n",
    "print(\"[하위 청크] \\n\")\n",
    "print(retriever.vectorstore.similarity_search(\"국민의 권리\")[0].page_content)\n",
    "print(\"-\"*50)\n",
    "print(\"[상위 청크] \\n\")\n",
    "print(retriever.get_relevant_documents(\"국민의 의무\")[0].page_content)"
   ]
  },
  {
   "cell_type": "markdown",
   "id": "53ed9410-784b-4e1e-9216-31b17ca62679",
   "metadata": {},
   "source": [
    "### **컨텍스트 재정렬, Long-Context Reorder**"
   ]
  },
  {
   "cell_type": "markdown",
   "id": "24de51ff-30e1-4b07-8799-78eddf2fd34e",
   "metadata": {},
   "source": [
    "**[Long-Context Reorder 없이 유사 문서 출력]**"
   ]
  },
  {
   "cell_type": "code",
   "execution_count": 13,
   "id": "5eedc1d3-2882-4547-90d4-936590b642da",
   "metadata": {},
   "outputs": [],
   "source": [
    "#Chroma dimension 관련 에러 발생 시 실행\n",
    "# Chroma().delete_collection()"
   ]
  },
  {
   "cell_type": "code",
   "execution_count": 15,
   "id": "c2576e9d-4b09-4b9f-81f7-bf10828a9bd0",
   "metadata": {},
   "outputs": [
    {
     "data": {
      "text/plain": [
       "[Document(page_content='L. 코넷은 최고의 셀틱스 선수 중 한 명입니다.'),\n",
       " Document(page_content='L. 코넷은 최고의 셀틱스 선수 중 한 명입니다.'),\n",
       " Document(page_content='셀틱스는 제가 가장 좋아하는 팀입니다.'),\n",
       " Document(page_content='셀틱스는 제가 가장 좋아하는 팀입니다.'),\n",
       " Document(page_content='이것은 그냥 임의의 텍스트입니다.'),\n",
       " Document(page_content='이것은 그냥 임의의 텍스트입니다.'),\n",
       " Document(page_content='이것은 보스턴 셀틱스에 관한 문서입니다.저는 단순히 영화 보러 가는 것을 좋아합니다'),\n",
       " Document(page_content='이것은 보스턴 셀틱스에 관한 문서입니다.저는 단순히 영화 보러 가는 것을 좋아합니다'),\n",
       " Document(page_content='바스켓볼은 훌륭한 스포츠입니다.'),\n",
       " Document(page_content='바스켓볼은 훌륭한 스포츠입니다.')]"
      ]
     },
     "execution_count": 15,
     "metadata": {},
     "output_type": "execute_result"
    }
   ],
   "source": [
    "from langchain.chains import LLMChain, StuffDocumentsChain\n",
    "from langchain.prompts import PromptTemplate\n",
    "from langchain_community.document_transformers import (\n",
    "    LongContextReorder,\n",
    ")\n",
    "from langchain_community.embeddings import HuggingFaceEmbeddings\n",
    "from langchain_community.vectorstores import Chroma\n",
    "from langchain_openai import OpenAI\n",
    "\n",
    "# 한글 임베딩 모델 선언\n",
    "model_name = \"jhgan/ko-sbert-nli\"\n",
    "model_kwargs = {'device': 'cpu'}\n",
    "encode_kwargs = {'normalize_embeddings': True}\n",
    "embedding = HuggingFaceEmbeddings(\n",
    "    model_name=model_name,\n",
    "    model_kwargs=model_kwargs,\n",
    "    encode_kwargs=encode_kwargs\n",
    ")\n",
    "\n",
    "texts = [\n",
    "    \"바스켓볼은 훌륭한 스포츠입니다.\",\n",
    "    \"플라이 미 투 더 문은 제가 가장 좋아하는 노래 중 하나입니다.\",\n",
    "    \"셀틱스는 제가 가장 좋아하는 팀입니다.\",\n",
    "    \"이것은 보스턴 셀틱스에 관한 문서입니다.\"\n",
    "    \"저는 단순히 영화 보러 가는 것을 좋아합니다\",\n",
    "    \"보스턴 셀틱스가 20점차로 이겼어요\",\n",
    "    \"이것은 그냥 임의의 텍스트입니다.\",\n",
    "    \"엘든 링은 지난 15 년 동안 최고의 게임 중 하나입니다.\",\n",
    "    \"L. 코넷은 최고의 셀틱스 선수 중 한 명입니다.\",\n",
    "    \"래리 버드는 상징적인 NBA 선수였습니다.\",\n",
    "]\n",
    "# Chroma Retriever 선언(10개의 유사 문서 출력)\n",
    "retriever = Chroma.from_texts(texts, embedding=embedding).as_retriever(\n",
    "    search_kwargs={\"k\": 10}\n",
    ")\n",
    "query = \"셀틱에 대해 설명해줘\"\n",
    "\n",
    "# 유사도 기준으로 검색 결과 출력\n",
    "docs = retriever.get_relevant_documents(query)\n",
    "docs"
   ]
  },
  {
   "cell_type": "markdown",
   "id": "da360438-90dd-4a51-9a12-9665f9908be1",
   "metadata": {},
   "source": [
    "**[Long-Context Reorder 활용하여 유사 문서 출력]**"
   ]
  },
  {
   "cell_type": "code",
   "execution_count": 16,
   "id": "9a56f567-ddf3-427e-9203-7b1957a4afe2",
   "metadata": {},
   "outputs": [
    {
     "data": {
      "text/plain": [
       "[Document(page_content='L. 코넷은 최고의 셀틱스 선수 중 한 명입니다.'),\n",
       " Document(page_content='셀틱스는 제가 가장 좋아하는 팀입니다.'),\n",
       " Document(page_content='이것은 그냥 임의의 텍스트입니다.'),\n",
       " Document(page_content='이것은 보스턴 셀틱스에 관한 문서입니다.저는 단순히 영화 보러 가는 것을 좋아합니다'),\n",
       " Document(page_content='바스켓볼은 훌륭한 스포츠입니다.'),\n",
       " Document(page_content='바스켓볼은 훌륭한 스포츠입니다.'),\n",
       " Document(page_content='이것은 보스턴 셀틱스에 관한 문서입니다.저는 단순히 영화 보러 가는 것을 좋아합니다'),\n",
       " Document(page_content='이것은 그냥 임의의 텍스트입니다.'),\n",
       " Document(page_content='셀틱스는 제가 가장 좋아하는 팀입니다.'),\n",
       " Document(page_content='L. 코넷은 최고의 셀틱스 선수 중 한 명입니다.')]"
      ]
     },
     "execution_count": 16,
     "metadata": {},
     "output_type": "execute_result"
    }
   ],
   "source": [
    "#LongContextReorder 선언\n",
    "reordering = LongContextReorder()\n",
    "#검색된 유사문서 중 관련도가 높은 문서를 맨앞과 맨뒤에 재정배치\n",
    "reordered_docs = reordering.transform_documents(docs)\n",
    "reordered_docs "
   ]
  },
  {
   "cell_type": "code",
   "execution_count": 14,
   "id": "82052b78-25e5-4826-a7a0-c824842735a2",
   "metadata": {},
   "outputs": [
    {
     "name": "stderr",
     "output_type": "stream",
     "text": [
      "WARNING:chromadb.segment.impl.vector.local_hnsw:Number of requested results 10 is greater than number of elements in index 9, updating n_results = 9\n"
     ]
    },
    {
     "data": {
      "text/plain": [
       "[Document(page_content='L. 코넷은 최고의 셀틱스 선수 중 한 명입니다.'),\n",
       " Document(page_content='셀틱스는 제가 가장 좋아하는 팀입니다.'),\n",
       " Document(page_content='이것은 그냥 임의의 텍스트입니다.'),\n",
       " Document(page_content='이것은 보스턴 셀틱스에 관한 문서입니다.저는 단순히 영화 보러 가는 것을 좋아합니다'),\n",
       " Document(page_content='바스켓볼은 훌륭한 스포츠입니다.'),\n",
       " Document(page_content='보스턴 셀틱스가 20점차로 이겼어요'),\n",
       " Document(page_content='플라이 미 투 더 문은 제가 가장 좋아하는 노래 중 하나입니다.'),\n",
       " Document(page_content='엘든 링은 지난 15 년 동안 최고의 게임 중 하나입니다.'),\n",
       " Document(page_content='래리 버드는 상징적인 NBA 선수였습니다.')]"
      ]
     },
     "execution_count": 14,
     "metadata": {},
     "output_type": "execute_result"
    }
   ],
   "source": [
    "from langchain_community.document_transformers import (\n",
    "    LongContextReorder,\n",
    ")\n",
    "from langchain_community.embeddings import HuggingFaceEmbeddings\n",
    "from langchain_community.vectorstores import Chroma\n",
    "from langchain_openai import OpenAI\n",
    "\n",
    "# 한글 임베딩 모델 선언\n",
    "model_name = \"jhgan/ko-sbert-nli\"\n",
    "model_kwargs = {'device': 'cpu'}\n",
    "encode_kwargs = {'normalize_embeddings': True}\n",
    "embedding = HuggingFaceEmbeddings(\n",
    "    model_name=model_name,\n",
    "    model_kwargs=model_kwargs,\n",
    "    encode_kwargs=encode_kwargs\n",
    ")\n",
    "\n",
    "texts = [\n",
    "    \"바스켓볼은 훌륭한 스포츠입니다.\",\n",
    "    \"플라이 미 투 더 문은 제가 가장 좋아하는 노래 중 하나입니다.\",\n",
    "    \"셀틱스는 제가 가장 좋아하는 팀입니다.\",\n",
    "    \"이것은 보스턴 셀틱스에 관한 문서입니다.\"\n",
    "    \"저는 단순히 영화 보러 가는 것을 좋아합니다\",\n",
    "    \"보스턴 셀틱스가 20점차로 이겼어요\",\n",
    "    \"이것은 그냥 임의의 텍스트입니다.\",\n",
    "    \"엘든 링은 지난 15 년 동안 최고의 게임 중 하나입니다.\",\n",
    "    \"L. 코넷은 최고의 셀틱스 선수 중 한 명입니다.\",\n",
    "    \"래리 버드는 상징적인 NBA 선수였습니다.\",\n",
    "]\n",
    "# Chroma Retriever 선언(10개의 유사 문서 출력)\n",
    "retriever = Chroma.from_texts(texts, embedding=embedding).as_retriever(\n",
    "    search_kwargs={\"k\": 10}\n",
    ")\n",
    "query = \"셀틱에 대해 설명해줘\"\n",
    "\n",
    "# 유사도 기준으로 검색 결과 출력\n",
    "docs = retriever.get_relevant_documents(query)\n",
    "docs"
   ]
  },
  {
   "cell_type": "code",
   "execution_count": null,
   "id": "5348d291-016c-431b-85ce-b87e300655b1",
   "metadata": {},
   "outputs": [],
   "source": []
  }
 ],
 "metadata": {
  "kernelspec": {
   "display_name": "Python 3 (ipykernel)",
   "language": "python",
   "name": "python3"
  },
  "language_info": {
   "codemirror_mode": {
    "name": "ipython",
    "version": 3
   },
   "file_extension": ".py",
   "mimetype": "text/x-python",
   "name": "python",
   "nbconvert_exporter": "python",
   "pygments_lexer": "ipython3",
   "version": "3.11.7"
  }
 },
 "nbformat": 4,
 "nbformat_minor": 5
}
