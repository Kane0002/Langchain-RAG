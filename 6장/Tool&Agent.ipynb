{
 "cells": [
  {
   "cell_type": "markdown",
   "id": "0fe2acbe-3237-4ae3-939b-e1093140f4ad",
   "metadata": {},
   "source": [
    "## **LLM의 한계를 너머, Tool & Agent**"
   ]
  },
  {
   "cell_type": "markdown",
   "id": "8106c0ac-913e-4e2a-98f6-e7462cd4efbe",
   "metadata": {},
   "source": [
    "### **Tavily AI로 검색 기반 에이전트 구축하기**"
   ]
  },
  {
   "cell_type": "markdown",
   "id": "04634796-2df4-43cc-84b8-01daeb562ea0",
   "metadata": {},
   "source": [
    "**Tavily AI를 인터넷 검색 Tool로 설정**"
   ]
  },
  {
   "cell_type": "code",
   "execution_count": 9,
   "id": "3f7298e3-c8f0-4a49-9a3f-c6ed0ae17e5c",
   "metadata": {},
   "outputs": [],
   "source": [
    "import os\n",
    "from langchain_community.tools.tavily_search import TavilySearchResults\n",
    "\n",
    "#Tavily AI API Key 환경변수 설정\n",
    "os.environ[\"OPENAI_API_KEY\"] = \"YOUR_API_KEY\"\n",
    "os.environ['TAVILY_API_KEY']=\"YOUR_API_KEY\"\n",
    "tools = [TavilySearchResults()]"
   ]
  },
  {
   "cell_type": "markdown",
   "id": "b345040f-921f-40bd-888a-f28903ac112f",
   "metadata": {},
   "source": [
    "**Agent 구축**"
   ]
  },
  {
   "cell_type": "code",
   "execution_count": 10,
   "id": "78cd6ed8-d8f8-49bd-8346-0ce4edf7db12",
   "metadata": {},
   "outputs": [],
   "source": [
    "from langchain import hub\n",
    "from langchain_openai import ChatOpenAI\n",
    "from langchain.agents import AgentExecutor, create_openai_tools_agent\n",
    "\n",
    "#Agent에서 Tool을 활용하기 위한 프롬프트\n",
    "prompt = hub.pull(\"hwchase17/openai-tools-agent\")\n",
    "llm = ChatOpenAI(model=\"gpt-3.5-turbo-1106\", temperature=0)\n",
    "#LLM, Tool, 프롬프트를 사용하여 에이전트 생성\n",
    "agent = create_openai_tools_agent(llm, tools, prompt)"
   ]
  },
  {
   "cell_type": "code",
   "execution_count": 11,
   "id": "3f549ced-98c2-45ec-8048-aa79bfdce905",
   "metadata": {},
   "outputs": [
    {
     "name": "stdout",
     "output_type": "stream",
     "text": [
      "\n",
      "\n",
      "\u001b[1m> Entering new AgentExecutor chain...\u001b[0m\n",
      "\u001b[32;1m\u001b[1;3m\n",
      "Invoking: `tavily_search_results_json` with `{'query': 'GPT-4o'}`\n",
      "\n",
      "\n",
      "\u001b[0m\u001b[36;1m\u001b[1;3m[{'url': 'https://openai.com/index/hello-gpt-4o/', 'content': 'Prior to GPT-4o, you could use Voice Mode to talk to ChatGPT with latencies of 2.8 seconds (GPT-3.5) and 5.4 seconds (GPT-4) on average. To achieve this, Voice Mode is a pipeline of three separate models: one simple model transcribes audio to text, GPT-3.5 or GPT-4 takes in text and outputs text, and a third simple model converts that text back to audio.'}, {'url': 'https://openai.com/index/gpt-4o-and-more-tools-to-chatgpt-free/', 'content': 'GPT-4o is our newest flagship model that provides GPT-4-level intelligence but is much faster and improves on its capabilities across text, voice, and vision. Today, GPT-4o is much better than any existing model at understanding and discussing the images you share. For example, you can now take a picture of a menu in a different language and talk to GPT-4o to translate it, learn about the food ...'}, {'url': 'https://platform.openai.com/docs/models/gpt-4o', 'content': 'GPT-4o is a multimodal model that can generate text from text or image inputs. It is more efficient and cheaper than GPT-4 Turbo, and has the best performance across non-English languages.'}, {'url': 'https://openai.com/product/gpt-4/', 'content': \"Longer context. GPT-4 is more creative and collaborative than ever before. It can generate, edit, and iterate with users on creative and technical writing tasks, such as composing songs, writing screenplays, or learning a user's writing style. Input. Explain the plot of Cinderella in a sentence where each word has to begin with the next ...\"}, {'url': 'https://www.youtube.com/watch?v=vgYi3Wr7v_g', 'content': 'Say hello to GPT-4o, our new flagship model which can reason across audio, vision, and text in real time.Learn more here: https://www.openai.com/index/hello-...'}]\u001b[0m\u001b[32;1m\u001b[1;3mGPT-4o는 OpenAI의 최신 주력 모델로, GPT-4 수준의 지능을 제공하지만 훨씬 빠르고 텍스트, 음성 및 이미지에 걸쳐 기능을 향상시켰습니다. GPT-4o는 텍스트 또는 이미지 입력에서 텍스트를 생성할 수 있는 다중 모달 모델입니다. 또한, GPT-4o는 이미지를 이해하고 토론하는 데 있어 기존 모델보다 훨씬 뛰어난 성능을 보여줍니다. 자세한 내용은 [여기](https://openai.com/index/hello-gpt-4o/)에서 확인할 수 있습니다.\u001b[0m\n",
      "\n",
      "\u001b[1m> Finished chain.\u001b[0m\n"
     ]
    },
    {
     "data": {
      "text/plain": [
       "{'input': 'GPT-4o가 뭐야?',\n",
       " 'output': 'GPT-4o는 OpenAI의 최신 주력 모델로, GPT-4 수준의 지능을 제공하지만 훨씬 빠르고 텍스트, 음성 및 이미지에 걸쳐 기능을 향상시켰습니다. GPT-4o는 텍스트 또는 이미지 입력에서 텍스트를 생성할 수 있는 다중 모달 모델입니다. 또한, GPT-4o는 이미지를 이해하고 토론하는 데 있어 기존 모델보다 훨씬 뛰어난 성능을 보여줍니다. 자세한 내용은 [여기](https://openai.com/index/hello-gpt-4o/)에서 확인할 수 있습니다.'}"
      ]
     },
     "execution_count": 11,
     "metadata": {},
     "output_type": "execute_result"
    }
   ],
   "source": [
    "agent_executor = AgentExecutor(agent=agent, tools=tools, verbose=True)\n",
    "agent_executor.invoke({\"input\": \"GPT-4o가 뭐야?\"})"
   ]
  },
  {
   "cell_type": "markdown",
   "id": "4f2bb00c-1eb0-4a10-8a2c-85d93820fe39",
   "metadata": {},
   "source": [
    "### **Langchain으로 벡터 DB & 인터넷 검색 Agent 구축하기**"
   ]
  },
  {
   "cell_type": "markdown",
   "id": "60dbdef7-afb9-4928-b7bc-2a1771f0a586",
   "metadata": {},
   "source": [
    "**Tavily AI를 인터넷 검색 Tool로 설정**"
   ]
  },
  {
   "cell_type": "code",
   "execution_count": 2,
   "id": "3306b468-c74e-402c-8ead-c273a0df6fe0",
   "metadata": {},
   "outputs": [],
   "source": [
    "import os\n",
    "from langchain_community.tools.tavily_search import TavilySearchResults\n",
    "\n",
    "#Tavily AI API Key 환경변수 설정\n",
    "os.environ[\"OPENAI_API_KEY\"] = \"YOUR_API_KEY\"\n",
    "os.environ['TAVILY_API_KEY']=\"YOUR_API_KEY\"\n",
    "search = TavilySearchResults()"
   ]
  },
  {
   "cell_type": "markdown",
   "id": "402d7f70-3133-4700-b11e-f9c312f32c43",
   "metadata": {},
   "source": [
    "**벡터 DB 구축**"
   ]
  },
  {
   "cell_type": "code",
   "execution_count": 3,
   "id": "a676cbb3-32dc-47cc-a26c-6b69ceaef967",
   "metadata": {},
   "outputs": [],
   "source": [
    "from langchain.document_loaders import PyPDFLoader\n",
    "from langchain_community.vectorstores import FAISS\n",
    "from langchain_openai import OpenAIEmbeddings\n",
    "from langchain_text_splitters import RecursiveCharacterTextSplitter\n",
    "\n",
    "loader = PyPDFLoader(r\"C:\\Users\\gram\\Downloads\\★육아휴직제도 사용안내서_배포.pdf\")\n",
    "docs = loader.load()\n",
    "documents = RecursiveCharacterTextSplitter(\n",
    "    chunk_size=1000, chunk_overlap=200).split_documents(docs)\n",
    "vector = FAISS.from_documents(documents, OpenAIEmbeddings())\n",
    "retriever = vector.as_retriever()\n"
   ]
  },
  {
   "cell_type": "markdown",
   "id": "5b52a50a-122b-4aa8-8dcb-e5f75996af6b",
   "metadata": {},
   "source": [
    "**create_retriever_tool로 벡터 DB 검색 툴 설정**"
   ]
  },
  {
   "cell_type": "code",
   "execution_count": 4,
   "id": "aac0543b-e663-40d8-9eac-9cb615b3348e",
   "metadata": {},
   "outputs": [],
   "source": [
    "from langchain.tools.retriever import create_retriever_tool\n",
    "#벡터 DB 검색을 위한 검색 도구 설정\n",
    "retriever_tool = create_retriever_tool(\n",
    "    retriever,\n",
    "    \"parental_leave\",\n",
    "    \"육아휴직과 관련한 정보를 검색합니다. 육아 휴직 관련한 질문이 입력되면 이 도구를 사용합니다.\",\n",
    ")"
   ]
  },
  {
   "cell_type": "markdown",
   "id": "56187331-dc07-4512-b2d0-044d01667fcb",
   "metadata": {},
   "source": [
    "**Agent 구축**"
   ]
  },
  {
   "cell_type": "code",
   "execution_count": null,
   "id": "7563c4bb-dcff-45df-b55d-14d0a01c538f",
   "metadata": {},
   "outputs": [
    {
     "name": "stdout",
     "output_type": "stream",
     "text": [
      "\n",
      "\n",
      "\u001b[1m> Entering new AgentExecutor chain...\u001b[0m\n",
      "\u001b[32;1m\u001b[1;3m\n",
      "Invoking: `parental_leave` with `{'query': '육아휴직 사용 방법'}`\n",
      "\n",
      "\n",
      "\u001b[0m"
     ]
    }
   ],
   "source": [
    "from langchain_openai import ChatOpenAI\n",
    "from langchain import hub\n",
    "from langchain.agents import create_openai_tools_agent\n",
    "from langchain.agents import AgentExecutor\n",
    "\n",
    "tools = [search, retriever_tool]\n",
    "llm = ChatOpenAI(model=\"gpt-4o\", temperature=0)\n",
    "prompt = hub.pull(\"hwchase17/openai-functions-agent\")\n",
    "agent = create_openai_tools_agent(llm, tools, prompt)\n",
    "agent_executor = AgentExecutor(agent=agent, tools=tools, verbose=True)\n",
    "agent_executor.invoke({\"input\": \"육아휴직은 어떻게 사용할 수 있어?\"})"
   ]
  },
  {
   "cell_type": "markdown",
   "id": "95a19e63-2202-4ba6-b4be-c07b0d2b573d",
   "metadata": {},
   "source": [
    "**벡터DB를 활용하는 질문**"
   ]
  },
  {
   "cell_type": "code",
   "execution_count": null,
   "id": "3e5b84d2-68e2-4757-a4e8-a0d16a506840",
   "metadata": {},
   "outputs": [],
   "source": [
    "agent_executor.invoke({\"input\": \"육아휴직은 어떻게 사용할 수 있어?\"})"
   ]
  },
  {
   "cell_type": "markdown",
   "id": "2f94831a-d17d-4ffe-86aa-d11670bb540a",
   "metadata": {},
   "source": [
    "**인터넷 검색을 활용하는 질문**"
   ]
  },
  {
   "cell_type": "code",
   "execution_count": null,
   "id": "4da25e06-dfda-4cbc-9157-2e073985c29d",
   "metadata": {},
   "outputs": [],
   "source": [
    "agent_executor.invoke({\"input\": \"현재 대한민국의 인구는 몇명이야?\"})"
   ]
  }
 ],
 "metadata": {
  "kernelspec": {
   "display_name": "Python 3 (ipykernel)",
   "language": "python",
   "name": "python3"
  },
  "language_info": {
   "codemirror_mode": {
    "name": "ipython",
    "version": 3
   },
   "file_extension": ".py",
   "mimetype": "text/x-python",
   "name": "python",
   "nbconvert_exporter": "python",
   "pygments_lexer": "ipython3",
   "version": "3.11.7"
  }
 },
 "nbformat": 4,
 "nbformat_minor": 5
}
